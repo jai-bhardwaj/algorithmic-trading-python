{
  "nbformat": 4,
  "nbformat_minor": 0,
  "metadata": {
    "colab": {
      "provenance": [],
      "gpuType": "T4",
      "authorship_tag": "ABX9TyPyNJeCOSfs+dgBMU24ISex",
      "include_colab_link": true
    },
    "kernelspec": {
      "name": "python3",
      "display_name": "Python 3"
    },
    "language_info": {
      "name": "python"
    },
    "accelerator": "GPU"
  },
  "cells": [
    {
      "cell_type": "markdown",
      "metadata": {
        "id": "view-in-github",
        "colab_type": "text"
      },
      "source": [
        "<a href=\"https://colab.research.google.com/github/jai-bhardwaj/algorithmic-trading-python/blob/main/Bharti_Airtel_Stock_Prediction.ipynb\" target=\"_parent\"><img src=\"https://colab.research.google.com/assets/colab-badge.svg\" alt=\"Open In Colab\"/></a>"
      ]
    },
    {
      "cell_type": "markdown",
      "source": [
        "#RNN Model\n"
      ],
      "metadata": {
        "id": "QcuviDhg0BCi"
      }
    },
    {
      "cell_type": "code",
      "execution_count": 238,
      "metadata": {
        "id": "2l_auKZQi75q"
      },
      "outputs": [],
      "source": [
        "import pandas as pd\n",
        "import numpy as np\n",
        "import matplotlib.pyplot as plt\n",
        "import yfinance as yf"
      ]
    },
    {
      "cell_type": "code",
      "source": [
        "df = pd.read_csv('Airtel.csv', index_col=['Date'], parse_dates=True)\n",
        "df.head()\n"
      ],
      "metadata": {
        "colab": {
          "base_uri": "https://localhost:8080/",
          "height": 238
        },
        "id": "352vURCfmMRR",
        "outputId": "6289b90e-13b7-4c63-9b9f-ba8df0177e91"
      },
      "execution_count": 239,
      "outputs": [
        {
          "output_type": "execute_result",
          "data": {
            "text/plain": [
              "              OPEN   HIGH    LOW  PREV. CLOSE    ltp   close    vwap  52W H  \\\n",
              "Date                                                                          \n",
              "2021-06-02  529.90  534.6  528.0       532.90  529.5  529.50  530.22  623.0   \n",
              "2021-06-03  530.00  533.4  528.5       529.50  531.2  532.05  531.21  623.0   \n",
              "2021-06-04  533.95  535.8  531.2       532.05  532.6  532.70  533.34  623.0   \n",
              "2021-06-07  534.00  541.0  533.0       532.70  536.3  536.45  537.66  623.0   \n",
              "2021-06-08  538.10  548.0  534.0       536.45  547.5  546.80  541.30  623.0   \n",
              "\n",
              "            52W L      VOLUME             VALUE No of trades  \n",
              "Date                                                          \n",
              "2021-06-02  394.0  10,372,845  5,499,910,242.45      111,242  \n",
              "2021-06-03  394.0   6,174,103  3,279,761,456.40      112,639  \n",
              "2021-06-04  394.0   4,788,898  2,554,100,070.05       86,667  \n",
              "2021-06-07  394.0   9,496,183  5,105,741,297.30      125,647  \n",
              "2021-06-08  394.0  12,586,649  6,813,116,864.75      141,711  "
            ],
            "text/html": [
              "\n",
              "  <div id=\"df-3acf5b54-27d8-4b53-95f6-1b5998af9367\">\n",
              "    <div class=\"colab-df-container\">\n",
              "      <div>\n",
              "<style scoped>\n",
              "    .dataframe tbody tr th:only-of-type {\n",
              "        vertical-align: middle;\n",
              "    }\n",
              "\n",
              "    .dataframe tbody tr th {\n",
              "        vertical-align: top;\n",
              "    }\n",
              "\n",
              "    .dataframe thead th {\n",
              "        text-align: right;\n",
              "    }\n",
              "</style>\n",
              "<table border=\"1\" class=\"dataframe\">\n",
              "  <thead>\n",
              "    <tr style=\"text-align: right;\">\n",
              "      <th></th>\n",
              "      <th>OPEN</th>\n",
              "      <th>HIGH</th>\n",
              "      <th>LOW</th>\n",
              "      <th>PREV. CLOSE</th>\n",
              "      <th>ltp</th>\n",
              "      <th>close</th>\n",
              "      <th>vwap</th>\n",
              "      <th>52W H</th>\n",
              "      <th>52W L</th>\n",
              "      <th>VOLUME</th>\n",
              "      <th>VALUE</th>\n",
              "      <th>No of trades</th>\n",
              "    </tr>\n",
              "    <tr>\n",
              "      <th>Date</th>\n",
              "      <th></th>\n",
              "      <th></th>\n",
              "      <th></th>\n",
              "      <th></th>\n",
              "      <th></th>\n",
              "      <th></th>\n",
              "      <th></th>\n",
              "      <th></th>\n",
              "      <th></th>\n",
              "      <th></th>\n",
              "      <th></th>\n",
              "      <th></th>\n",
              "    </tr>\n",
              "  </thead>\n",
              "  <tbody>\n",
              "    <tr>\n",
              "      <th>2021-06-02</th>\n",
              "      <td>529.90</td>\n",
              "      <td>534.6</td>\n",
              "      <td>528.0</td>\n",
              "      <td>532.90</td>\n",
              "      <td>529.5</td>\n",
              "      <td>529.50</td>\n",
              "      <td>530.22</td>\n",
              "      <td>623.0</td>\n",
              "      <td>394.0</td>\n",
              "      <td>10,372,845</td>\n",
              "      <td>5,499,910,242.45</td>\n",
              "      <td>111,242</td>\n",
              "    </tr>\n",
              "    <tr>\n",
              "      <th>2021-06-03</th>\n",
              "      <td>530.00</td>\n",
              "      <td>533.4</td>\n",
              "      <td>528.5</td>\n",
              "      <td>529.50</td>\n",
              "      <td>531.2</td>\n",
              "      <td>532.05</td>\n",
              "      <td>531.21</td>\n",
              "      <td>623.0</td>\n",
              "      <td>394.0</td>\n",
              "      <td>6,174,103</td>\n",
              "      <td>3,279,761,456.40</td>\n",
              "      <td>112,639</td>\n",
              "    </tr>\n",
              "    <tr>\n",
              "      <th>2021-06-04</th>\n",
              "      <td>533.95</td>\n",
              "      <td>535.8</td>\n",
              "      <td>531.2</td>\n",
              "      <td>532.05</td>\n",
              "      <td>532.6</td>\n",
              "      <td>532.70</td>\n",
              "      <td>533.34</td>\n",
              "      <td>623.0</td>\n",
              "      <td>394.0</td>\n",
              "      <td>4,788,898</td>\n",
              "      <td>2,554,100,070.05</td>\n",
              "      <td>86,667</td>\n",
              "    </tr>\n",
              "    <tr>\n",
              "      <th>2021-06-07</th>\n",
              "      <td>534.00</td>\n",
              "      <td>541.0</td>\n",
              "      <td>533.0</td>\n",
              "      <td>532.70</td>\n",
              "      <td>536.3</td>\n",
              "      <td>536.45</td>\n",
              "      <td>537.66</td>\n",
              "      <td>623.0</td>\n",
              "      <td>394.0</td>\n",
              "      <td>9,496,183</td>\n",
              "      <td>5,105,741,297.30</td>\n",
              "      <td>125,647</td>\n",
              "    </tr>\n",
              "    <tr>\n",
              "      <th>2021-06-08</th>\n",
              "      <td>538.10</td>\n",
              "      <td>548.0</td>\n",
              "      <td>534.0</td>\n",
              "      <td>536.45</td>\n",
              "      <td>547.5</td>\n",
              "      <td>546.80</td>\n",
              "      <td>541.30</td>\n",
              "      <td>623.0</td>\n",
              "      <td>394.0</td>\n",
              "      <td>12,586,649</td>\n",
              "      <td>6,813,116,864.75</td>\n",
              "      <td>141,711</td>\n",
              "    </tr>\n",
              "  </tbody>\n",
              "</table>\n",
              "</div>\n",
              "      <button class=\"colab-df-convert\" onclick=\"convertToInteractive('df-3acf5b54-27d8-4b53-95f6-1b5998af9367')\"\n",
              "              title=\"Convert this dataframe to an interactive table.\"\n",
              "              style=\"display:none;\">\n",
              "        \n",
              "  <svg xmlns=\"http://www.w3.org/2000/svg\" height=\"24px\"viewBox=\"0 0 24 24\"\n",
              "       width=\"24px\">\n",
              "    <path d=\"M0 0h24v24H0V0z\" fill=\"none\"/>\n",
              "    <path d=\"M18.56 5.44l.94 2.06.94-2.06 2.06-.94-2.06-.94-.94-2.06-.94 2.06-2.06.94zm-11 1L8.5 8.5l.94-2.06 2.06-.94-2.06-.94L8.5 2.5l-.94 2.06-2.06.94zm10 10l.94 2.06.94-2.06 2.06-.94-2.06-.94-.94-2.06-.94 2.06-2.06.94z\"/><path d=\"M17.41 7.96l-1.37-1.37c-.4-.4-.92-.59-1.43-.59-.52 0-1.04.2-1.43.59L10.3 9.45l-7.72 7.72c-.78.78-.78 2.05 0 2.83L4 21.41c.39.39.9.59 1.41.59.51 0 1.02-.2 1.41-.59l7.78-7.78 2.81-2.81c.8-.78.8-2.07 0-2.86zM5.41 20L4 18.59l7.72-7.72 1.47 1.35L5.41 20z\"/>\n",
              "  </svg>\n",
              "      </button>\n",
              "      \n",
              "  <style>\n",
              "    .colab-df-container {\n",
              "      display:flex;\n",
              "      flex-wrap:wrap;\n",
              "      gap: 12px;\n",
              "    }\n",
              "\n",
              "    .colab-df-convert {\n",
              "      background-color: #E8F0FE;\n",
              "      border: none;\n",
              "      border-radius: 50%;\n",
              "      cursor: pointer;\n",
              "      display: none;\n",
              "      fill: #1967D2;\n",
              "      height: 32px;\n",
              "      padding: 0 0 0 0;\n",
              "      width: 32px;\n",
              "    }\n",
              "\n",
              "    .colab-df-convert:hover {\n",
              "      background-color: #E2EBFA;\n",
              "      box-shadow: 0px 1px 2px rgba(60, 64, 67, 0.3), 0px 1px 3px 1px rgba(60, 64, 67, 0.15);\n",
              "      fill: #174EA6;\n",
              "    }\n",
              "\n",
              "    [theme=dark] .colab-df-convert {\n",
              "      background-color: #3B4455;\n",
              "      fill: #D2E3FC;\n",
              "    }\n",
              "\n",
              "    [theme=dark] .colab-df-convert:hover {\n",
              "      background-color: #434B5C;\n",
              "      box-shadow: 0px 1px 3px 1px rgba(0, 0, 0, 0.15);\n",
              "      filter: drop-shadow(0px 1px 2px rgba(0, 0, 0, 0.3));\n",
              "      fill: #FFFFFF;\n",
              "    }\n",
              "  </style>\n",
              "\n",
              "      <script>\n",
              "        const buttonEl =\n",
              "          document.querySelector('#df-3acf5b54-27d8-4b53-95f6-1b5998af9367 button.colab-df-convert');\n",
              "        buttonEl.style.display =\n",
              "          google.colab.kernel.accessAllowed ? 'block' : 'none';\n",
              "\n",
              "        async function convertToInteractive(key) {\n",
              "          const element = document.querySelector('#df-3acf5b54-27d8-4b53-95f6-1b5998af9367');\n",
              "          const dataTable =\n",
              "            await google.colab.kernel.invokeFunction('convertToInteractive',\n",
              "                                                     [key], {});\n",
              "          if (!dataTable) return;\n",
              "\n",
              "          const docLinkHtml = 'Like what you see? Visit the ' +\n",
              "            '<a target=\"_blank\" href=https://colab.research.google.com/notebooks/data_table.ipynb>data table notebook</a>'\n",
              "            + ' to learn more about interactive tables.';\n",
              "          element.innerHTML = '';\n",
              "          dataTable['output_type'] = 'display_data';\n",
              "          await google.colab.output.renderOutput(dataTable, element);\n",
              "          const docLink = document.createElement('div');\n",
              "          docLink.innerHTML = docLinkHtml;\n",
              "          element.appendChild(docLink);\n",
              "        }\n",
              "      </script>\n",
              "    </div>\n",
              "  </div>\n",
              "  "
            ]
          },
          "metadata": {},
          "execution_count": 239
        }
      ]
    },
    {
      "cell_type": "code",
      "source": [
        "df.info()"
      ],
      "metadata": {
        "colab": {
          "base_uri": "https://localhost:8080/"
        },
        "id": "lIYjSkGyvcy9",
        "outputId": "655bb13e-6058-4146-b995-33cb438bcac0"
      },
      "execution_count": 240,
      "outputs": [
        {
          "output_type": "stream",
          "name": "stdout",
          "text": [
            "<class 'pandas.core.frame.DataFrame'>\n",
            "DatetimeIndex: 497 entries, 2021-06-02 to 2023-06-01\n",
            "Data columns (total 12 columns):\n",
            " #   Column        Non-Null Count  Dtype  \n",
            "---  ------        --------------  -----  \n",
            " 0   OPEN          497 non-null    float64\n",
            " 1   HIGH          497 non-null    float64\n",
            " 2   LOW           497 non-null    float64\n",
            " 3   PREV. CLOSE   497 non-null    float64\n",
            " 4   ltp           497 non-null    float64\n",
            " 5   close         497 non-null    float64\n",
            " 6   vwap          497 non-null    float64\n",
            " 7   52W H         497 non-null    float64\n",
            " 8   52W L         497 non-null    float64\n",
            " 9   VOLUME        497 non-null    object \n",
            " 10  VALUE         497 non-null    object \n",
            " 11  No of trades  497 non-null    object \n",
            "dtypes: float64(9), object(3)\n",
            "memory usage: 50.5+ KB\n"
          ]
        }
      ]
    },
    {
      "cell_type": "code",
      "source": [
        "df['close'].plot()"
      ],
      "metadata": {
        "colab": {
          "base_uri": "https://localhost:8080/",
          "height": 451
        },
        "id": "dRJGCzXq02Aa",
        "outputId": "45d65b84-0da9-42b1-ffc0-1b7eae182842"
      },
      "execution_count": 241,
      "outputs": [
        {
          "output_type": "execute_result",
          "data": {
            "text/plain": [
              "<Axes: xlabel='Date'>"
            ]
          },
          "metadata": {},
          "execution_count": 241
        },
        {
          "output_type": "display_data",
          "data": {
            "text/plain": [
              "<Figure size 640x480 with 1 Axes>"
            ],
            "image/png": "[encoded data removed]"
          },
          "metadata": {}
        }
      ]
    },
    {
      "cell_type": "code",
      "source": [
        "len(df)"
      ],
      "metadata": {
        "colab": {
          "base_uri": "https://localhost:8080/"
        },
        "id": "bkeRIGeQ04wb",
        "outputId": "26a00c79-381a-45dc-9275-572048b3c074"
      },
      "execution_count": 242,
      "outputs": [
        {
          "output_type": "execute_result",
          "data": {
            "text/plain": [
              "497"
            ]
          },
          "metadata": {},
          "execution_count": 242
        }
      ]
    },
    {
      "cell_type": "code",
      "source": [
        "airtel_close = df['close']"
      ],
      "metadata": {
        "id": "_GFZd4J81DOg"
      },
      "execution_count": 243,
      "outputs": []
    },
    {
      "cell_type": "code",
      "source": [
        "airtel_close.reset_index(drop=True, inplace=True)\n",
        "airtel_close.shape"
      ],
      "metadata": {
        "colab": {
          "base_uri": "https://localhost:8080/"
        },
        "id": "MiEEdq2r6g2E",
        "outputId": "8b979809-25d8-411c-e523-1135bbf53924"
      },
      "execution_count": 244,
      "outputs": [
        {
          "output_type": "execute_result",
          "data": {
            "text/plain": [
              "(497,)"
            ]
          },
          "metadata": {},
          "execution_count": 244
        }
      ]
    },
    {
      "cell_type": "code",
      "source": [
        "airtel_close = pd.DataFrame(airtel_close)"
      ],
      "metadata": {
        "id": "LIsUTaJz61dr"
      },
      "execution_count": 245,
      "outputs": []
    },
    {
      "cell_type": "code",
      "source": [
        "train = airtel_close.iloc[:480]\n",
        "test = airtel_close.iloc[480:]"
      ],
      "metadata": {
        "id": "yydkoxmz6_9o"
      },
      "execution_count": 246,
      "outputs": []
    },
    {
      "cell_type": "code",
      "source": [
        "from sklearn.preprocessing import MinMaxScaler"
      ],
      "metadata": {
        "id": "Iq4b13V_7Scn"
      },
      "execution_count": 247,
      "outputs": []
    },
    {
      "cell_type": "code",
      "source": [
        "scaler = MinMaxScaler()"
      ],
      "metadata": {
        "id": "bfZRm8Tt7ZXb"
      },
      "execution_count": 248,
      "outputs": []
    },
    {
      "cell_type": "code",
      "source": [
        "scaler.fit(train)"
      ],
      "metadata": {
        "colab": {
          "base_uri": "https://localhost:8080/",
          "height": 75
        },
        "id": "lH2z32K37hS9",
        "outputId": "5247e872-813c-452b-83da-9f24b9577be4"
      },
      "execution_count": 249,
      "outputs": [
        {
          "output_type": "execute_result",
          "data": {
            "text/plain": [
              "MinMaxScaler()"
            ],
            "text/html": [
              "<style>#sk-container-id-5 {color: black;background-color: white;}#sk-container-id-5 pre{padding: 0;}#sk-container-id-5 div.sk-toggleable {background-color: white;}#sk-container-id-5 label.sk-toggleable__label {cursor: pointer;display: block;width: 100%;margin-bottom: 0;padding: 0.3em;box-sizing: border-box;text-align: center;}#sk-container-id-5 label.sk-toggleable__label-arrow:before {content: \"▸\";float: left;margin-right: 0.25em;color: #696969;}#sk-container-id-5 label.sk-toggleable__label-arrow:hover:before {color: black;}#sk-container-id-5 div.sk-estimator:hover label.sk-toggleable__label-arrow:before {color: black;}#sk-container-id-5 div.sk-toggleable__content {max-height: 0;max-width: 0;overflow: hidden;text-align: left;background-color: #f0f8ff;}#sk-container-id-5 div.sk-toggleable__content pre {margin: 0.2em;color: black;border-radius: 0.25em;background-color: #f0f8ff;}#sk-container-id-5 input.sk-toggleable__control:checked~div.sk-toggleable__content {max-height: 200px;max-width: 100%;overflow: auto;}#sk-container-id-5 input.sk-toggleable__control:checked~label.sk-toggleable__label-arrow:before {content: \"▾\";}#sk-container-id-5 div.sk-estimator input.sk-toggleable__control:checked~label.sk-toggleable__label {background-color: #d4ebff;}#sk-container-id-5 div.sk-label input.sk-toggleable__control:checked~label.sk-toggleable__label {background-color: #d4ebff;}#sk-container-id-5 input.sk-hidden--visually {border: 0;clip: rect(1px 1px 1px 1px);clip: rect(1px, 1px, 1px, 1px);height: 1px;margin: -1px;overflow: hidden;padding: 0;position: absolute;width: 1px;}#sk-container-id-5 div.sk-estimator {font-family: monospace;background-color: #f0f8ff;border: 1px dotted black;border-radius: 0.25em;box-sizing: border-box;margin-bottom: 0.5em;}#sk-container-id-5 div.sk-estimator:hover {background-color: #d4ebff;}#sk-container-id-5 div.sk-parallel-item::after {content: \"\";width: 100%;border-bottom: 1px solid gray;flex-grow: 1;}#sk-container-id-5 div.sk-label:hover label.sk-toggleable__label {background-color: #d4ebff;}#sk-container-id-5 div.sk-serial::before {content: \"\";position: absolute;border-left: 1px solid gray;box-sizing: border-box;top: 0;bottom: 0;left: 50%;z-index: 0;}#sk-container-id-5 div.sk-serial {display: flex;flex-direction: column;align-items: center;background-color: white;padding-right: 0.2em;padding-left: 0.2em;position: relative;}#sk-container-id-5 div.sk-item {position: relative;z-index: 1;}#sk-container-id-5 div.sk-parallel {display: flex;align-items: stretch;justify-content: center;background-color: white;position: relative;}#sk-container-id-5 div.sk-item::before, #sk-container-id-5 div.sk-parallel-item::before {content: \"\";position: absolute;border-left: 1px solid gray;box-sizing: border-box;top: 0;bottom: 0;left: 50%;z-index: -1;}#sk-container-id-5 div.sk-parallel-item {display: flex;flex-direction: column;z-index: 1;position: relative;background-color: white;}#sk-container-id-5 div.sk-parallel-item:first-child::after {align-self: flex-end;width: 50%;}#sk-container-id-5 div.sk-parallel-item:last-child::after {align-self: flex-start;width: 50%;}#sk-container-id-5 div.sk-parallel-item:only-child::after {width: 0;}#sk-container-id-5 div.sk-dashed-wrapped {border: 1px dashed gray;margin: 0 0.4em 0.5em 0.4em;box-sizing: border-box;padding-bottom: 0.4em;background-color: white;}#sk-container-id-5 div.sk-label label {font-family: monospace;font-weight: bold;display: inline-block;line-height: 1.2em;}#sk-container-id-5 div.sk-label-container {text-align: center;}#sk-container-id-5 div.sk-container {/* jupyter's `normalize.less` sets `[hidden] { display: none; }` but bootstrap.min.css set `[hidden] { display: none !important; }` so we also need the `!important` here to be able to override the default hidden behavior on the sphinx rendered scikit-learn.org. See: https://github.com/scikit-learn/scikit-learn/issues/21755 */display: inline-block !important;position: relative;}#sk-container-id-5 div.sk-text-repr-fallback {display: none;}</style><div id=\"sk-container-id-5\" class=\"sk-top-container\"><div class=\"sk-text-repr-fallback\"><pre>MinMaxScaler()</pre><b>In a Jupyter environment, please rerun this cell to show the HTML representation or trust the notebook. <br />On GitHub, the HTML representation is unable to render, please try loading this page with nbviewer.org.</b></div><div class=\"sk-container\" hidden><div class=\"sk-item\"><div class=\"sk-estimator sk-toggleable\"><input class=\"sk-toggleable__control sk-hidden--visually\" id=\"sk-estimator-id-5\" type=\"checkbox\" checked><label for=\"sk-estimator-id-5\" class=\"sk-toggleable__label sk-toggleable__label-arrow\">MinMaxScaler</label><div class=\"sk-toggleable__content\"><pre>MinMaxScaler()</pre></div></div></div></div></div>"
            ]
          },
          "metadata": {},
          "execution_count": 249
        }
      ]
    },
    {
      "cell_type": "code",
      "source": [
        "scaled_train = scaler.transform(train)\n",
        "scaled_test = scaler.transform(test)"
      ],
      "metadata": {
        "id": "XuWvSyBj7m7r"
      },
      "execution_count": 250,
      "outputs": []
    },
    {
      "cell_type": "markdown",
      "source": [
        "# Creating the Model"
      ],
      "metadata": {
        "id": "t5rmOkF18H4U"
      }
    },
    {
      "cell_type": "code",
      "source": [
        "from tensorflow.keras.preprocessing.sequence import TimeseriesGenerator"
      ],
      "metadata": {
        "id": "sPpNECqY725V"
      },
      "execution_count": 251,
      "outputs": []
    },
    {
      "cell_type": "code",
      "source": [
        "test.shape"
      ],
      "metadata": {
        "colab": {
          "base_uri": "https://localhost:8080/"
        },
        "id": "HHA3ujaX8DDO",
        "outputId": "a671e88f-c6dd-44c8-d707-d6e86806432c"
      },
      "execution_count": 252,
      "outputs": [
        {
          "output_type": "execute_result",
          "data": {
            "text/plain": [
              "(17, 1)"
            ]
          },
          "metadata": {},
          "execution_count": 252
        }
      ]
    },
    {
      "cell_type": "code",
      "source": [
        "help(TimeseriesGenerator)"
      ],
      "metadata": {
        "colab": {
          "base_uri": "https://localhost:8080/"
        },
        "id": "YSkhY73v8RLq",
        "outputId": "4df286d8-78e6-4237-8663-1023b4326d47"
      },
      "execution_count": 253,
      "outputs": [
        {
          "output_type": "stream",
          "name": "stdout",
          "text": [
            "Help on class TimeseriesGenerator in module keras.preprocessing.sequence:\n",
            "\n",
            "class TimeseriesGenerator(keras.utils.data_utils.Sequence)\n",
            " |  TimeseriesGenerator(data, targets, length, sampling_rate=1, stride=1, start_index=0, end_index=None, shuffle=False, reverse=False, batch_size=128)\n",
            " |  \n",
            " |  Utility class for generating batches of temporal data.\n",
            " |  \n",
            " |  Deprecated: `tf.keras.preprocessing.sequence.TimeseriesGenerator` does not\n",
            " |  operate on tensors and is not recommended for new code. Prefer using a\n",
            " |  `tf.data.Dataset` which provides a more efficient and flexible mechanism for\n",
            " |  batching, shuffling, and windowing input. See the\n",
            " |  [tf.data guide](https://www.tensorflow.org/guide/data) for more details.\n",
            " |  \n",
            " |  This class takes in a sequence of data-points gathered at\n",
            " |  equal intervals, along with time series parameters such as\n",
            " |  stride, length of history, etc., to produce batches for\n",
            " |  training/validation.\n",
            " |  \n",
            " |  Arguments:\n",
            " |      data: Indexable generator (such as list or Numpy array)\n",
            " |          containing consecutive data points (timesteps).\n",
            " |          The data should be at 2D, and axis 0 is expected\n",
            " |          to be the time dimension.\n",
            " |      targets: Targets corresponding to timesteps in `data`.\n",
            " |          It should have same length as `data`.\n",
            " |      length: Length of the output sequences (in number of timesteps).\n",
            " |      sampling_rate: Period between successive individual timesteps\n",
            " |          within sequences. For rate `r`, timesteps\n",
            " |          `data[i]`, `data[i-r]`, ... `data[i - length]`\n",
            " |          are used for create a sample sequence.\n",
            " |      stride: Period between successive output sequences.\n",
            " |          For stride `s`, consecutive output samples would\n",
            " |          be centered around `data[i]`, `data[i+s]`, `data[i+2*s]`, etc.\n",
            " |      start_index: Data points earlier than `start_index` will not be used\n",
            " |          in the output sequences. This is useful to reserve part of the\n",
            " |          data for test or validation.\n",
            " |      end_index: Data points later than `end_index` will not be used\n",
            " |          in the output sequences. This is useful to reserve part of the\n",
            " |          data for test or validation.\n",
            " |      shuffle: Whether to shuffle output samples,\n",
            " |          or instead draw them in chronological order.\n",
            " |      reverse: Boolean: if `true`, timesteps in each output sample will be\n",
            " |          in reverse chronological order.\n",
            " |      batch_size: Number of timeseries samples in each batch\n",
            " |          (except maybe the last one).\n",
            " |  \n",
            " |  Returns:\n",
            " |      A [Sequence](\n",
            " |      https://www.tensorflow.org/api_docs/python/tf/keras/utils/Sequence)\n",
            " |      instance.\n",
            " |  \n",
            " |  Examples:\n",
            " |      ```python\n",
            " |      from keras.preprocessing.sequence import TimeseriesGenerator\n",
            " |      import numpy as np\n",
            " |      data = np.array([[i] for i in range(50)])\n",
            " |      targets = np.array([[i] for i in range(50)])\n",
            " |      data_gen = TimeseriesGenerator(data, targets,\n",
            " |                                     length=10, sampling_rate=2,\n",
            " |                                     batch_size=2)\n",
            " |      assert len(data_gen) == 20\n",
            " |      batch_0 = data_gen[0]\n",
            " |      x, y = batch_0\n",
            " |      assert np.array_equal(x,\n",
            " |                            np.array([[[0], [2], [4], [6], [8]],\n",
            " |                                      [[1], [3], [5], [7], [9]]]))\n",
            " |      assert np.array_equal(y,\n",
            " |                            np.array([[10], [11]]))\n",
            " |      ```\n",
            " |  \n",
            " |  Method resolution order:\n",
            " |      TimeseriesGenerator\n",
            " |      keras.utils.data_utils.Sequence\n",
            " |      builtins.object\n",
            " |  \n",
            " |  Methods defined here:\n",
            " |  \n",
            " |  __getitem__(self, index)\n",
            " |      Gets batch at position `index`.\n",
            " |      \n",
            " |      Args:\n",
            " |          index: position of the batch in the Sequence.\n",
            " |      \n",
            " |      Returns:\n",
            " |          A batch\n",
            " |  \n",
            " |  __init__(self, data, targets, length, sampling_rate=1, stride=1, start_index=0, end_index=None, shuffle=False, reverse=False, batch_size=128)\n",
            " |      Initialize self.  See help(type(self)) for accurate signature.\n",
            " |  \n",
            " |  __len__(self)\n",
            " |      Number of batch in the Sequence.\n",
            " |      \n",
            " |      Returns:\n",
            " |          The number of batches in the Sequence.\n",
            " |  \n",
            " |  get_config(self)\n",
            " |      Returns the TimeseriesGenerator configuration as Python dictionary.\n",
            " |      \n",
            " |      Returns:\n",
            " |          A Python dictionary with the TimeseriesGenerator configuration.\n",
            " |  \n",
            " |  to_json(self, **kwargs)\n",
            " |      Returns a JSON string containing the generator's configuration.\n",
            " |      \n",
            " |      Args:\n",
            " |          **kwargs: Additional keyword arguments to be passed\n",
            " |              to `json.dumps()`.\n",
            " |      \n",
            " |      Returns:\n",
            " |          A JSON string containing the tokenizer configuration.\n",
            " |  \n",
            " |  ----------------------------------------------------------------------\n",
            " |  Methods inherited from keras.utils.data_utils.Sequence:\n",
            " |  \n",
            " |  __iter__(self)\n",
            " |      Create a generator that iterate over the Sequence.\n",
            " |  \n",
            " |  on_epoch_end(self)\n",
            " |      Method called at the end of every epoch.\n",
            " |  \n",
            " |  ----------------------------------------------------------------------\n",
            " |  Data descriptors inherited from keras.utils.data_utils.Sequence:\n",
            " |  \n",
            " |  __dict__\n",
            " |      dictionary for instance variables (if defined)\n",
            " |  \n",
            " |  __weakref__\n",
            " |      list of weak references to the object (if defined)\n",
            "\n"
          ]
        }
      ]
    },
    {
      "cell_type": "code",
      "source": [
        "length = 17\n",
        "batch_size = 30\n",
        "generator = TimeseriesGenerator(scaled_train, scaled_train, length = length, batch_size = batch_size)"
      ],
      "metadata": {
        "id": "NARRlrcP-lWj"
      },
      "execution_count": 254,
      "outputs": []
    },
    {
      "cell_type": "code",
      "source": [
        "from tensorflow.keras.models import Sequential\n",
        "from tensorflow.keras.layers import Dense, SimpleRNN, LSTM, Dropout"
      ],
      "metadata": {
        "id": "akTXa-B6_T5a"
      },
      "execution_count": 255,
      "outputs": []
    },
    {
      "cell_type": "code",
      "source": [
        "n_features = 1"
      ],
      "metadata": {
        "id": "BiwjDgwa_p7z"
      },
      "execution_count": 256,
      "outputs": []
    },
    {
      "cell_type": "code",
      "source": [
        "model = Sequential()\n",
        "model.add(SimpleRNN(30,input_shape=(length, n_features)))\n",
        "model.add(Dropout(rate = 0.2))\n",
        "# model.add(Dense(17))\n",
        "# model.add(Dense(50))\n",
        "# model.add(Dense(29))\n",
        "model.add(Dense(1))\n",
        "model.compile(optimizer='adam', loss='mse')"
      ],
      "metadata": {
        "id": "CmjoM72X_vv6"
      },
      "execution_count": 257,
      "outputs": []
    },
    {
      "cell_type": "code",
      "source": [
        "model.summary()"
      ],
      "metadata": {
        "colab": {
          "base_uri": "https://localhost:8080/"
        },
        "id": "ZdYTJT0-AbcP",
        "outputId": "bacaabf2-8231-4359-a9ce-888e554cdb3d"
      },
      "execution_count": 258,
      "outputs": [
        {
          "output_type": "stream",
          "name": "stdout",
          "text": [
            "Model: \"sequential_16\"\n",
            "_________________________________________________________________\n",
            " Layer (type)                Output Shape              Param #   \n",
            "=================================================================\n",
            " simple_rnn_16 (SimpleRNN)   (None, 30)                960       \n",
            "                                                                 \n",
            " dropout_20 (Dropout)        (None, 30)                0         \n",
            "                                                                 \n",
            " dense_46 (Dense)            (None, 1)                 31        \n",
            "                                                                 \n",
            "=================================================================\n",
            "Total params: 991\n",
            "Trainable params: 991\n",
            "Non-trainable params: 0\n",
            "_________________________________________________________________\n"
          ]
        }
      ]
    },
    {
      "cell_type": "code",
      "source": [
        "model.fit_generator(generator,epochs=30,shuffle=False)"
      ],
      "metadata": {
        "colab": {
          "base_uri": "https://localhost:8080/"
        },
        "id": "O7u1LDnlAidK",
        "outputId": "850ba2b8-16a4-4405-ef38-97bca8c19fb9"
      },
      "execution_count": 259,
      "outputs": [
        {
          "output_type": "stream",
          "name": "stdout",
          "text": [
            "Epoch 1/30\n"
          ]
        },
        {
          "output_type": "stream",
          "name": "stderr",
          "text": [
            "<ipython-input-259-4a1e14edf27a>:1: UserWarning: `Model.fit_generator` is deprecated and will be removed in a future version. Please use `Model.fit`, which supports generators.\n",
            "  model.fit_generator(generator,epochs=30,shuffle=False)\n"
          ]
        },
        {
          "output_type": "stream",
          "name": "stdout",
          "text": [
            "16/16 [==============================] - 3s 21ms/step - loss: 0.0516\n",
            "Epoch 2/30\n",
            "16/16 [==============================] - 0s 15ms/step - loss: 0.0210\n",
            "Epoch 3/30\n",
            "16/16 [==============================] - 0s 17ms/step - loss: 0.0168\n",
            "Epoch 4/30\n",
            "16/16 [==============================] - 0s 16ms/step - loss: 0.0121\n",
            "Epoch 5/30\n",
            "16/16 [==============================] - 0s 15ms/step - loss: 0.0105\n",
            "Epoch 6/30\n",
            "16/16 [==============================] - 0s 16ms/step - loss: 0.0103\n",
            "Epoch 7/30\n",
            "16/16 [==============================] - 0s 16ms/step - loss: 0.0092\n",
            "Epoch 8/30\n",
            "16/16 [==============================] - 0s 14ms/step - loss: 0.0080\n",
            "Epoch 9/30\n",
            "16/16 [==============================] - 0s 16ms/step - loss: 0.0079\n",
            "Epoch 10/30\n",
            "16/16 [==============================] - 0s 15ms/step - loss: 0.0067\n",
            "Epoch 11/30\n",
            "16/16 [==============================] - 0s 17ms/step - loss: 0.0070\n",
            "Epoch 12/30\n",
            "16/16 [==============================] - 0s 16ms/step - loss: 0.0071\n",
            "Epoch 13/30\n",
            "16/16 [==============================] - 0s 18ms/step - loss: 0.0059\n",
            "Epoch 14/30\n",
            "16/16 [==============================] - 0s 15ms/step - loss: 0.0068\n",
            "Epoch 15/30\n",
            "16/16 [==============================] - 0s 18ms/step - loss: 0.0059\n",
            "Epoch 16/30\n",
            "16/16 [==============================] - 0s 17ms/step - loss: 0.0071\n",
            "Epoch 17/30\n",
            "16/16 [==============================] - 0s 16ms/step - loss: 0.0071\n",
            "Epoch 18/30\n",
            "16/16 [==============================] - 0s 17ms/step - loss: 0.0057\n",
            "Epoch 19/30\n",
            "16/16 [==============================] - 0s 15ms/step - loss: 0.0058\n",
            "Epoch 20/30\n",
            "16/16 [==============================] - 0s 14ms/step - loss: 0.0058\n",
            "Epoch 21/30\n",
            "16/16 [==============================] - 0s 17ms/step - loss: 0.0062\n",
            "Epoch 22/30\n",
            "16/16 [==============================] - 0s 18ms/step - loss: 0.0048\n",
            "Epoch 23/30\n",
            "16/16 [==============================] - 0s 17ms/step - loss: 0.0052\n",
            "Epoch 24/30\n",
            "16/16 [==============================] - 0s 15ms/step - loss: 0.0058\n",
            "Epoch 25/30\n",
            "16/16 [==============================] - 0s 14ms/step - loss: 0.0059\n",
            "Epoch 26/30\n",
            "16/16 [==============================] - 0s 15ms/step - loss: 0.0057\n",
            "Epoch 27/30\n",
            "16/16 [==============================] - 0s 14ms/step - loss: 0.0057\n",
            "Epoch 28/30\n",
            "16/16 [==============================] - 0s 15ms/step - loss: 0.0057\n",
            "Epoch 29/30\n",
            "16/16 [==============================] - 0s 14ms/step - loss: 0.0049\n",
            "Epoch 30/30\n",
            "16/16 [==============================] - 0s 16ms/step - loss: 0.0045\n"
          ]
        },
        {
          "output_type": "execute_result",
          "data": {
            "text/plain": [
              "<keras.callbacks.History at 0x7fb9d06c41c0>"
            ]
          },
          "metadata": {},
          "execution_count": 259
        }
      ]
    },
    {
      "cell_type": "code",
      "source": [
        "losses = pd.DataFrame(model.history.history)"
      ],
      "metadata": {
        "id": "zVNbKWyoBcNh"
      },
      "execution_count": 260,
      "outputs": []
    },
    {
      "cell_type": "code",
      "source": [
        "losses.plot()"
      ],
      "metadata": {
        "colab": {
          "base_uri": "https://localhost:8080/",
          "height": 448
        },
        "id": "95qF9eYKCoJ7",
        "outputId": "adcc8220-48a0-4269-e572-19c15976b2c6"
      },
      "execution_count": 261,
      "outputs": [
        {
          "output_type": "execute_result",
          "data": {
            "text/plain": [
              "<Axes: >"
            ]
          },
          "metadata": {},
          "execution_count": 261
        },
        {
          "output_type": "display_data",
          "data": {
            "text/plain": [
              "<Figure size 640x480 with 1 Axes>"
            ],
            "image/png": "[encoded data removed]"
          },
          "metadata": {}
        }
      ]
    },
    {
      "cell_type": "code",
      "source": [
        "first_eval_batch = scaled_train[-length:]"
      ],
      "metadata": {
        "id": "fU1esGLeCpjg"
      },
      "execution_count": 262,
      "outputs": []
    },
    {
      "cell_type": "code",
      "source": [
        "first_eval_batch = first_eval_batch.reshape((1,length,1))"
      ],
      "metadata": {
        "id": "mrWiGgAKmkak"
      },
      "execution_count": 263,
      "outputs": []
    },
    {
      "cell_type": "code",
      "source": [
        "first_eval_batch"
      ],
      "metadata": {
        "colab": {
          "base_uri": "https://localhost:8080/"
        },
        "id": "BPX6s3bUnAAc",
        "outputId": "443c2570-b7cc-4d92-c0dd-90b7c7194e84"
      },
      "execution_count": 264,
      "outputs": [
        {
          "output_type": "execute_result",
          "data": {
            "text/plain": [
              "array([[[0.7438746 ],\n",
              "        [0.72135139],\n",
              "        [0.72165576],\n",
              "        [0.73656978],\n",
              "        [0.7598539 ],\n",
              "        [0.7382438 ],\n",
              "        [0.7231776 ],\n",
              "        [0.76076701],\n",
              "        [0.76335413],\n",
              "        [0.80307411],\n",
              "        [0.84203318],\n",
              "        [0.81433572],\n",
              "        [0.78115964],\n",
              "        [0.81098767],\n",
              "        [0.80550905],\n",
              "        [0.82514077],\n",
              "        [0.82468422]]])"
            ]
          },
          "metadata": {},
          "execution_count": 264
        }
      ]
    },
    {
      "cell_type": "code",
      "source": [
        "model.predict(first_eval_batch)"
      ],
      "metadata": {
        "colab": {
          "base_uri": "https://localhost:8080/"
        },
        "id": "G-Y0Wg0Jnb-K",
        "outputId": "6adc6825-4957-47b6-eb06-e553fd6b7eda"
      },
      "execution_count": 265,
      "outputs": [
        {
          "output_type": "stream",
          "name": "stdout",
          "text": [
            "1/1 [==============================] - 0s 141ms/step\n"
          ]
        },
        {
          "output_type": "execute_result",
          "data": {
            "text/plain": [
              "array([[0.8245517]], dtype=float32)"
            ]
          },
          "metadata": {},
          "execution_count": 265
        }
      ]
    },
    {
      "cell_type": "code",
      "source": [
        "scaled_test[0]"
      ],
      "metadata": {
        "colab": {
          "base_uri": "https://localhost:8080/"
        },
        "id": "28oZbrM0ng2G",
        "outputId": "c9d6e75d-3ac7-4591-ff42-713617399fdc"
      },
      "execution_count": 266,
      "outputs": [
        {
          "output_type": "execute_result",
          "data": {
            "text/plain": [
              "array([0.83214123])"
            ]
          },
          "metadata": {},
          "execution_count": 266
        }
      ]
    },
    {
      "cell_type": "code",
      "source": [
        "test_predictions = []\n",
        "first_eval_batch = scaled_train[-length:]\n",
        "current_batch = first_eval_batch.reshape((1,length,n_features))\n",
        "\n",
        "for i in range(len(test)):\n",
        "  current_pred = model.predict(current_batch)[0]\n",
        "\n",
        "  test_predictions.append(current_pred)\n",
        "\n",
        "  current_batch = np.append(current_batch[:,1:,:],[[current_pred]],axis=1)\n"
      ],
      "metadata": {
        "colab": {
          "base_uri": "https://localhost:8080/"
        },
        "id": "UP7w25S6nnSJ",
        "outputId": "d5610e48-827f-4a22-ab42-766fb3f91071"
      },
      "execution_count": 267,
      "outputs": [
        {
          "output_type": "stream",
          "name": "stdout",
          "text": [
            "1/1 [==============================] - 0s 24ms/step\n",
            "1/1 [==============================] - 0s 24ms/step\n",
            "1/1 [==============================] - 0s 23ms/step\n",
            "1/1 [==============================] - 0s 23ms/step\n",
            "1/1 [==============================] - 0s 35ms/step\n",
            "1/1 [==============================] - 0s 33ms/step\n",
            "1/1 [==============================] - 0s 33ms/step\n",
            "1/1 [==============================] - 0s 32ms/step\n",
            "1/1 [==============================] - 0s 33ms/step\n",
            "1/1 [==============================] - 0s 33ms/step\n",
            "1/1 [==============================] - 0s 53ms/step\n",
            "1/1 [==============================] - 0s 33ms/step\n",
            "1/1 [==============================] - 0s 35ms/step\n",
            "1/1 [==============================] - 0s 40ms/step\n",
            "1/1 [==============================] - 0s 35ms/step\n",
            "1/1 [==============================] - 0s 34ms/step\n",
            "1/1 [==============================] - 0s 39ms/step\n"
          ]
        }
      ]
    },
    {
      "cell_type": "code",
      "source": [
        "test_predictions"
      ],
      "metadata": {
        "colab": {
          "base_uri": "https://localhost:8080/"
        },
        "id": "1QSwT-DWpA7g",
        "outputId": "691eb9d0-2068-49b0-96e2-d2d932bb050e"
      },
      "execution_count": 268,
      "outputs": [
        {
          "output_type": "execute_result",
          "data": {
            "text/plain": [
              "[array([0.8245517], dtype=float32),\n",
              " array([0.8288008], dtype=float32),\n",
              " array([0.82824486], dtype=float32),\n",
              " array([0.8389254], dtype=float32),\n",
              " array([0.84405774], dtype=float32),\n",
              " array([0.84568423], dtype=float32),\n",
              " array([0.8424325], dtype=float32),\n",
              " array([0.84685475], dtype=float32),\n",
              " array([0.85118294], dtype=float32),\n",
              " array([0.85085166], dtype=float32),\n",
              " array([0.85675055], dtype=float32),\n",
              " array([0.86472565], dtype=float32),\n",
              " array([0.86178297], dtype=float32),\n",
              " array([0.8665064], dtype=float32),\n",
              " array([0.86954445], dtype=float32),\n",
              " array([0.8726818], dtype=float32),\n",
              " array([0.87640226], dtype=float32)]"
            ]
          },
          "metadata": {},
          "execution_count": 268
        }
      ]
    },
    {
      "cell_type": "code",
      "source": [
        "true_predictions = scaler.inverse_transform(test_predictions)"
      ],
      "metadata": {
        "id": "x1UxcbhRpEnC"
      },
      "execution_count": 269,
      "outputs": []
    },
    {
      "cell_type": "code",
      "source": [
        "true_predictions"
      ],
      "metadata": {
        "colab": {
          "base_uri": "https://localhost:8080/"
        },
        "id": "aqHDVuJCpWJZ",
        "outputId": "d51416d7-5247-4504-c57e-067a0670951c"
      },
      "execution_count": 270,
      "outputs": [
        {
          "output_type": "execute_result",
          "data": {
            "text/plain": [
              "array([[793.55646154],\n",
              "       [794.95250201],\n",
              "       [794.76985038],\n",
              "       [798.27894715],\n",
              "       [799.96517008],\n",
              "       [800.49955387],\n",
              "       [799.43119752],\n",
              "       [800.88412691],\n",
              "       [802.30615416],\n",
              "       [802.19731125],\n",
              "       [804.13539251],\n",
              "       [806.7556121 ],\n",
              "       [805.78879415],\n",
              "       [807.34067697],\n",
              "       [808.33882789],\n",
              "       [809.36960426],\n",
              "       [810.59196215]])"
            ]
          },
          "metadata": {},
          "execution_count": 270
        }
      ]
    },
    {
      "cell_type": "code",
      "source": [
        "test['predictions'] = true_predictions"
      ],
      "metadata": {
        "colab": {
          "base_uri": "https://localhost:8080/"
        },
        "id": "_ZVtk6-mpYIP",
        "outputId": "67197580-7405-4ab1-8f6e-497fe7dc038a"
      },
      "execution_count": 271,
      "outputs": [
        {
          "output_type": "stream",
          "name": "stderr",
          "text": [
            "<ipython-input-271-fa6c3af7c69f>:1: SettingWithCopyWarning: \n",
            "A value is trying to be set on a copy of a slice from a DataFrame.\n",
            "Try using .loc[row_indexer,col_indexer] = value instead\n",
            "\n",
            "See the caveats in the documentation: https://pandas.pydata.org/pandas-docs/stable/user_guide/indexing.html#returning-a-view-versus-a-copy\n",
            "  test['predictions'] = true_predictions\n"
          ]
        }
      ]
    },
    {
      "cell_type": "code",
      "source": [
        "test"
      ],
      "metadata": {
        "colab": {
          "base_uri": "https://localhost:8080/",
          "height": 582
        },
        "id": "SVijjH1Hp0qj",
        "outputId": "9ddcdf97-6ef6-4abc-a908-2c31e0abafee"
      },
      "execution_count": 272,
      "outputs": [
        {
          "output_type": "execute_result",
          "data": {
            "text/plain": [
              "      close  predictions\n",
              "480  796.05   793.556462\n",
              "481  788.60   794.952502\n",
              "482  791.95   794.769850\n",
              "483  797.05   798.278947\n",
              "484  787.35   799.965170\n",
              "485  792.25   800.499554\n",
              "486  799.35   799.431198\n",
              "487  805.75   800.884127\n",
              "488  801.85   802.306154\n",
              "489  799.95   802.197311\n",
              "490  801.40   804.135393\n",
              "491  822.70   806.755612\n",
              "492  817.95   805.788794\n",
              "493  821.25   807.340677\n",
              "494  818.45   808.338828\n",
              "495  849.90   809.369604\n",
              "496  827.95   810.591962"
            ],
            "text/html": [
              "\n",
              "  <div id=\"df-71771cc9-7804-4d9a-89a9-8f190d011e5e\">\n",
              "    <div class=\"colab-df-container\">\n",
              "      <div>\n",
              "<style scoped>\n",
              "    .dataframe tbody tr th:only-of-type {\n",
              "        vertical-align: middle;\n",
              "    }\n",
              "\n",
              "    .dataframe tbody tr th {\n",
              "        vertical-align: top;\n",
              "    }\n",
              "\n",
              "    .dataframe thead th {\n",
              "        text-align: right;\n",
              "    }\n",
              "</style>\n",
              "<table border=\"1\" class=\"dataframe\">\n",
              "  <thead>\n",
              "    <tr style=\"text-align: right;\">\n",
              "      <th></th>\n",
              "      <th>close</th>\n",
              "      <th>predictions</th>\n",
              "    </tr>\n",
              "  </thead>\n",
              "  <tbody>\n",
              "    <tr>\n",
              "      <th>480</th>\n",
              "      <td>796.05</td>\n",
              "      <td>793.556462</td>\n",
              "    </tr>\n",
              "    <tr>\n",
              "      <th>481</th>\n",
              "      <td>788.60</td>\n",
              "      <td>794.952502</td>\n",
              "    </tr>\n",
              "    <tr>\n",
              "      <th>482</th>\n",
              "      <td>791.95</td>\n",
              "      <td>794.769850</td>\n",
              "    </tr>\n",
              "    <tr>\n",
              "      <th>483</th>\n",
              "      <td>797.05</td>\n",
              "      <td>798.278947</td>\n",
              "    </tr>\n",
              "    <tr>\n",
              "      <th>484</th>\n",
              "      <td>787.35</td>\n",
              "      <td>799.965170</td>\n",
              "    </tr>\n",
              "    <tr>\n",
              "      <th>485</th>\n",
              "      <td>792.25</td>\n",
              "      <td>800.499554</td>\n",
              "    </tr>\n",
              "    <tr>\n",
              "      <th>486</th>\n",
              "      <td>799.35</td>\n",
              "      <td>799.431198</td>\n",
              "    </tr>\n",
              "    <tr>\n",
              "      <th>487</th>\n",
              "      <td>805.75</td>\n",
              "      <td>800.884127</td>\n",
              "    </tr>\n",
              "    <tr>\n",
              "      <th>488</th>\n",
              "      <td>801.85</td>\n",
              "      <td>802.306154</td>\n",
              "    </tr>\n",
              "    <tr>\n",
              "      <th>489</th>\n",
              "      <td>799.95</td>\n",
              "      <td>802.197311</td>\n",
              "    </tr>\n",
              "    <tr>\n",
              "      <th>490</th>\n",
              "      <td>801.40</td>\n",
              "      <td>804.135393</td>\n",
              "    </tr>\n",
              "    <tr>\n",
              "      <th>491</th>\n",
              "      <td>822.70</td>\n",
              "      <td>806.755612</td>\n",
              "    </tr>\n",
              "    <tr>\n",
              "      <th>492</th>\n",
              "      <td>817.95</td>\n",
              "      <td>805.788794</td>\n",
              "    </tr>\n",
              "    <tr>\n",
              "      <th>493</th>\n",
              "      <td>821.25</td>\n",
              "      <td>807.340677</td>\n",
              "    </tr>\n",
              "    <tr>\n",
              "      <th>494</th>\n",
              "      <td>818.45</td>\n",
              "      <td>808.338828</td>\n",
              "    </tr>\n",
              "    <tr>\n",
              "      <th>495</th>\n",
              "      <td>849.90</td>\n",
              "      <td>809.369604</td>\n",
              "    </tr>\n",
              "    <tr>\n",
              "      <th>496</th>\n",
              "      <td>827.95</td>\n",
              "      <td>810.591962</td>\n",
              "    </tr>\n",
              "  </tbody>\n",
              "</table>\n",
              "</div>\n",
              "      <button class=\"colab-df-convert\" onclick=\"convertToInteractive('df-71771cc9-7804-4d9a-89a9-8f190d011e5e')\"\n",
              "              title=\"Convert this dataframe to an interactive table.\"\n",
              "              style=\"display:none;\">\n",
              "        \n",
              "  <svg xmlns=\"http://www.w3.org/2000/svg\" height=\"24px\"viewBox=\"0 0 24 24\"\n",
              "       width=\"24px\">\n",
              "    <path d=\"M0 0h24v24H0V0z\" fill=\"none\"/>\n",
              "    <path d=\"M18.56 5.44l.94 2.06.94-2.06 2.06-.94-2.06-.94-.94-2.06-.94 2.06-2.06.94zm-11 1L8.5 8.5l.94-2.06 2.06-.94-2.06-.94L8.5 2.5l-.94 2.06-2.06.94zm10 10l.94 2.06.94-2.06 2.06-.94-2.06-.94-.94-2.06-.94 2.06-2.06.94z\"/><path d=\"M17.41 7.96l-1.37-1.37c-.4-.4-.92-.59-1.43-.59-.52 0-1.04.2-1.43.59L10.3 9.45l-7.72 7.72c-.78.78-.78 2.05 0 2.83L4 21.41c.39.39.9.59 1.41.59.51 0 1.02-.2 1.41-.59l7.78-7.78 2.81-2.81c.8-.78.8-2.07 0-2.86zM5.41 20L4 18.59l7.72-7.72 1.47 1.35L5.41 20z\"/>\n",
              "  </svg>\n",
              "      </button>\n",
              "      \n",
              "  <style>\n",
              "    .colab-df-container {\n",
              "      display:flex;\n",
              "      flex-wrap:wrap;\n",
              "      gap: 12px;\n",
              "    }\n",
              "\n",
              "    .colab-df-convert {\n",
              "      background-color: #E8F0FE;\n",
              "      border: none;\n",
              "      border-radius: 50%;\n",
              "      cursor: pointer;\n",
              "      display: none;\n",
              "      fill: #1967D2;\n",
              "      height: 32px;\n",
              "      padding: 0 0 0 0;\n",
              "      width: 32px;\n",
              "    }\n",
              "\n",
              "    .colab-df-convert:hover {\n",
              "      background-color: #E2EBFA;\n",
              "      box-shadow: 0px 1px 2px rgba(60, 64, 67, 0.3), 0px 1px 3px 1px rgba(60, 64, 67, 0.15);\n",
              "      fill: #174EA6;\n",
              "    }\n",
              "\n",
              "    [theme=dark] .colab-df-convert {\n",
              "      background-color: #3B4455;\n",
              "      fill: #D2E3FC;\n",
              "    }\n",
              "\n",
              "    [theme=dark] .colab-df-convert:hover {\n",
              "      background-color: #434B5C;\n",
              "      box-shadow: 0px 1px 3px 1px rgba(0, 0, 0, 0.15);\n",
              "      filter: drop-shadow(0px 1px 2px rgba(0, 0, 0, 0.3));\n",
              "      fill: #FFFFFF;\n",
              "    }\n",
              "  </style>\n",
              "\n",
              "      <script>\n",
              "        const buttonEl =\n",
              "          document.querySelector('#df-71771cc9-7804-4d9a-89a9-8f190d011e5e button.colab-df-convert');\n",
              "        buttonEl.style.display =\n",
              "          google.colab.kernel.accessAllowed ? 'block' : 'none';\n",
              "\n",
              "        async function convertToInteractive(key) {\n",
              "          const element = document.querySelector('#df-71771cc9-7804-4d9a-89a9-8f190d011e5e');\n",
              "          const dataTable =\n",
              "            await google.colab.kernel.invokeFunction('convertToInteractive',\n",
              "                                                     [key], {});\n",
              "          if (!dataTable) return;\n",
              "\n",
              "          const docLinkHtml = 'Like what you see? Visit the ' +\n",
              "            '<a target=\"_blank\" href=https://colab.research.google.com/notebooks/data_table.ipynb>data table notebook</a>'\n",
              "            + ' to learn more about interactive tables.';\n",
              "          element.innerHTML = '';\n",
              "          dataTable['output_type'] = 'display_data';\n",
              "          await google.colab.output.renderOutput(dataTable, element);\n",
              "          const docLink = document.createElement('div');\n",
              "          docLink.innerHTML = docLinkHtml;\n",
              "          element.appendChild(docLink);\n",
              "        }\n",
              "      </script>\n",
              "    </div>\n",
              "  </div>\n",
              "  "
            ]
          },
          "metadata": {},
          "execution_count": 272
        }
      ]
    },
    {
      "cell_type": "code",
      "source": [
        "test.plot(figsize=(12,8))\n",
        "airtel_close.plot()"
      ],
      "metadata": {
        "colab": {
          "base_uri": "https://localhost:8080/",
          "height": 1000
        },
        "id": "TZ7hphHbp5F3",
        "outputId": "318171d9-97ef-498d-858e-e1522a3ed1dc"
      },
      "execution_count": 273,
      "outputs": [
        {
          "output_type": "execute_result",
          "data": {
            "text/plain": [
              "<Axes: >"
            ]
          },
          "metadata": {},
          "execution_count": 273
        },
        {
          "output_type": "display_data",
          "data": {
            "text/plain": [
              "<Figure size 1200x800 with 1 Axes>"
            ],
            "image/png": "[encoded data removed]"
          },
          "metadata": {}
        },
        {
          "output_type": "display_data",
          "data": {
            "text/plain": [
              "<Figure size 640x480 with 1 Axes>"
            ],
            "image/png": "[encoded data removed]"
          },
          "metadata": {}
        }
      ]
    },
    {
      "cell_type": "markdown",
      "source": [
        "#Now building model on full dataset\n"
      ],
      "metadata": {
        "id": "2lU2a8p9rIOb"
      }
    },
    {
      "cell_type": "code",
      "source": [
        "full_scaler = MinMaxScaler()\n",
        "scaled_full_data = full_scaler.fit_transform(airtel_close)"
      ],
      "metadata": {
        "id": "x8SNTfQDqJa9"
      },
      "execution_count": 274,
      "outputs": []
    },
    {
      "cell_type": "code",
      "source": [
        "generator = TimeseriesGenerator(scaled_full_data,scaled_full_data,length = length,batch_size = 32)"
      ],
      "metadata": {
        "id": "dScVM55vrg5U"
      },
      "execution_count": 275,
      "outputs": []
    },
    {
      "cell_type": "code",
      "source": [
        "full_model = Sequential()\n",
        "full_model.add(SimpleRNN(30,input_shape=(length,n_features)))\n",
        "full_model.add(Dropout(rate = 0.2))\n",
        "# full_model.add(Dense(170))\n",
        "# full_model.add(Dropout(rate = 0.6))\n",
        "# full_model.add(Dense(500))\n",
        "# full_model.add(Dropout(rate = 0.6))\n",
        "# full_model.add(Dense(500))\n",
        "# full_model.add(Dropout(rate = 0.398))\n",
        "# full_model.add(Dense(500))\n",
        "# full_model.add(Dropout(rate = 0.3))\n",
        "# full_model.add(Dense(500))\n",
        "# full_model.add(Dropout(rate = 0.4))\n",
        "# full_model.add(Dense(290))\n",
        "# full_model.add(Dropout(rate = 0.29))\n",
        "# full_model.add(Dense(229))\n",
        "full_model.add(Dense(1))\n",
        "full_model.compile(optimizer='adam', loss='mse')"
      ],
      "metadata": {
        "id": "hj7h4NlBrwVy"
      },
      "execution_count": 276,
      "outputs": []
    },
    {
      "cell_type": "code",
      "source": [
        "full_model.fit_generator(generator,epochs=30,shuffle=False)"
      ],
      "metadata": {
        "colab": {
          "base_uri": "https://localhost:8080/"
        },
        "id": "7tM1MW7msLxa",
        "outputId": "395b4ebb-1dac-4949-d7ff-7e7bb7b32d5f"
      },
      "execution_count": 277,
      "outputs": [
        {
          "output_type": "stream",
          "name": "stdout",
          "text": [
            "Epoch 1/30\n"
          ]
        },
        {
          "output_type": "stream",
          "name": "stderr",
          "text": [
            "<ipython-input-277-e668ab5dba9a>:1: UserWarning: `Model.fit_generator` is deprecated and will be removed in a future version. Please use `Model.fit`, which supports generators.\n",
            "  full_model.fit_generator(generator,epochs=30,shuffle=False)\n"
          ]
        },
        {
          "output_type": "stream",
          "name": "stdout",
          "text": [
            "15/15 [==============================] - 4s 18ms/step - loss: 0.7991\n",
            "Epoch 2/30\n",
            "15/15 [==============================] - 0s 19ms/step - loss: 0.2564\n",
            "Epoch 3/30\n",
            "15/15 [==============================] - 0s 20ms/step - loss: 0.0997\n",
            "Epoch 4/30\n",
            "15/15 [==============================] - 0s 19ms/step - loss: 0.0669\n",
            "Epoch 5/30\n",
            "15/15 [==============================] - 0s 19ms/step - loss: 0.0597\n",
            "Epoch 6/30\n",
            "15/15 [==============================] - 0s 18ms/step - loss: 0.0515\n",
            "Epoch 7/30\n",
            "15/15 [==============================] - 0s 18ms/step - loss: 0.0492\n",
            "Epoch 8/30\n",
            "15/15 [==============================] - 0s 20ms/step - loss: 0.0331\n",
            "Epoch 9/30\n",
            "15/15 [==============================] - 0s 18ms/step - loss: 0.0222\n",
            "Epoch 10/30\n",
            "15/15 [==============================] - 0s 18ms/step - loss: 0.0204\n",
            "Epoch 11/30\n",
            "15/15 [==============================] - 0s 19ms/step - loss: 0.0203\n",
            "Epoch 12/30\n",
            "15/15 [==============================] - 0s 19ms/step - loss: 0.0224\n",
            "Epoch 13/30\n",
            "15/15 [==============================] - 0s 17ms/step - loss: 0.0155\n",
            "Epoch 14/30\n",
            "15/15 [==============================] - 0s 19ms/step - loss: 0.0219\n",
            "Epoch 15/30\n",
            "15/15 [==============================] - 0s 19ms/step - loss: 0.0214\n",
            "Epoch 16/30\n",
            "15/15 [==============================] - 0s 18ms/step - loss: 0.0170\n",
            "Epoch 17/30\n",
            "15/15 [==============================] - 0s 18ms/step - loss: 0.0155\n",
            "Epoch 18/30\n",
            "15/15 [==============================] - 0s 17ms/step - loss: 0.0152\n",
            "Epoch 19/30\n",
            "15/15 [==============================] - 0s 19ms/step - loss: 0.0143\n",
            "Epoch 20/30\n",
            "15/15 [==============================] - 0s 18ms/step - loss: 0.0145\n",
            "Epoch 21/30\n",
            "15/15 [==============================] - 0s 29ms/step - loss: 0.0138\n",
            "Epoch 22/30\n",
            "15/15 [==============================] - 0s 31ms/step - loss: 0.0133\n",
            "Epoch 23/30\n",
            "15/15 [==============================] - 0s 32ms/step - loss: 0.0144\n",
            "Epoch 24/30\n",
            "15/15 [==============================] - 1s 33ms/step - loss: 0.0139\n",
            "Epoch 25/30\n",
            "15/15 [==============================] - 0s 32ms/step - loss: 0.0100\n",
            "Epoch 26/30\n",
            "15/15 [==============================] - 0s 18ms/step - loss: 0.0142\n",
            "Epoch 27/30\n",
            "15/15 [==============================] - 0s 19ms/step - loss: 0.0135\n",
            "Epoch 28/30\n",
            "15/15 [==============================] - 0s 16ms/step - loss: 0.0127\n",
            "Epoch 29/30\n",
            "15/15 [==============================] - 0s 17ms/step - loss: 0.0117\n",
            "Epoch 30/30\n",
            "15/15 [==============================] - 0s 19ms/step - loss: 0.0110\n"
          ]
        },
        {
          "output_type": "execute_result",
          "data": {
            "text/plain": [
              "<keras.callbacks.History at 0x7fb9d02ed960>"
            ]
          },
          "metadata": {},
          "execution_count": 277
        }
      ]
    },
    {
      "cell_type": "code",
      "source": [
        "full_model_losses = pd.DataFrame(full_model.history.history)\n",
        "full_model_losses.plot()"
      ],
      "metadata": {
        "colab": {
          "base_uri": "https://localhost:8080/",
          "height": 448
        },
        "id": "rWwr0nqRsVDb",
        "outputId": "2fe7ab5b-c762-4d48-9416-dcd1ff37e943"
      },
      "execution_count": 278,
      "outputs": [
        {
          "output_type": "execute_result",
          "data": {
            "text/plain": [
              "<Axes: >"
            ]
          },
          "metadata": {},
          "execution_count": 278
        },
        {
          "output_type": "display_data",
          "data": {
            "text/plain": [
              "<Figure size 640x480 with 1 Axes>"
            ],
            "image/png": "[encoded data removed]"
          },
          "metadata": {}
        }
      ]
    },
    {
      "cell_type": "code",
      "source": [
        "forecast = []\n",
        "first_eval_batch = scaled_train[-length:]\n",
        "current_batch = first_eval_batch.reshape((1,length,n_features))\n",
        "\n",
        "for i in range(20):\n",
        "  current_pred = model.predict(current_batch)[0]\n",
        "\n",
        "  forecast.append(current_pred)\n",
        "\n",
        "  current_batch = np.append(current_batch[:,1:,:],[[current_pred]],axis=1)"
      ],
      "metadata": {
        "colab": {
          "base_uri": "https://localhost:8080/"
        },
        "id": "nvDnCx3AtLZz",
        "outputId": "eeff0aa0-3930-431a-a549-986d3a804ede"
      },
      "execution_count": 279,
      "outputs": [
        {
          "output_type": "stream",
          "name": "stdout",
          "text": [
            "1/1 [==============================] - 0s 22ms/step\n",
            "1/1 [==============================] - 0s 26ms/step\n",
            "1/1 [==============================] - 0s 23ms/step\n",
            "1/1 [==============================] - 0s 24ms/step\n",
            "1/1 [==============================] - 0s 23ms/step\n",
            "1/1 [==============================] - 0s 21ms/step\n",
            "1/1 [==============================] - 0s 23ms/step\n",
            "1/1 [==============================] - 0s 23ms/step\n",
            "1/1 [==============================] - 0s 23ms/step\n",
            "1/1 [==============================] - 0s 30ms/step\n",
            "1/1 [==============================] - 0s 24ms/step\n",
            "1/1 [==============================] - 0s 28ms/step\n",
            "1/1 [==============================] - 0s 25ms/step\n",
            "1/1 [==============================] - 0s 30ms/step\n",
            "1/1 [==============================] - 0s 24ms/step\n",
            "1/1 [==============================] - 0s 25ms/step\n",
            "1/1 [==============================] - 0s 31ms/step\n",
            "1/1 [==============================] - 0s 26ms/step\n",
            "1/1 [==============================] - 0s 26ms/step\n",
            "1/1 [==============================] - 0s 25ms/step\n"
          ]
        }
      ]
    },
    {
      "cell_type": "code",
      "source": [
        "forecast = scaler.inverse_transform(forecast)"
      ],
      "metadata": {
        "id": "jJNA9ofBwrZo"
      },
      "execution_count": 280,
      "outputs": []
    },
    {
      "cell_type": "code",
      "source": [
        "forecast"
      ],
      "metadata": {
        "colab": {
          "base_uri": "https://localhost:8080/"
        },
        "id": "HCEh70Z9wzGM",
        "outputId": "7ce18022-e04c-44d7-df9a-ac851e5a0fda"
      },
      "execution_count": 281,
      "outputs": [
        {
          "output_type": "execute_result",
          "data": {
            "text/plain": [
              "array([[793.55646154],\n",
              "       [794.95250201],\n",
              "       [794.76985038],\n",
              "       [798.27894715],\n",
              "       [799.96517008],\n",
              "       [800.49955387],\n",
              "       [799.43119752],\n",
              "       [800.88412691],\n",
              "       [802.30615416],\n",
              "       [802.19731125],\n",
              "       [804.13539251],\n",
              "       [806.7556121 ],\n",
              "       [805.78879415],\n",
              "       [807.34067697],\n",
              "       [808.33882789],\n",
              "       [809.36960426],\n",
              "       [810.59196215],\n",
              "       [811.20109467],\n",
              "       [812.65251615],\n",
              "       [813.16387022]])"
            ]
          },
          "metadata": {},
          "execution_count": 281
        }
      ]
    },
    {
      "cell_type": "code",
      "source": [
        "forecast.flatten()"
      ],
      "metadata": {
        "colab": {
          "base_uri": "https://localhost:8080/"
        },
        "id": "f3F541Zqw0QO",
        "outputId": "a6c500ab-3ef2-41a2-9819-215f714af15f"
      },
      "execution_count": 282,
      "outputs": [
        {
          "output_type": "execute_result",
          "data": {
            "text/plain": [
              "array([793.55646154, 794.95250201, 794.76985038, 798.27894715,\n",
              "       799.96517008, 800.49955387, 799.43119752, 800.88412691,\n",
              "       802.30615416, 802.19731125, 804.13539251, 806.7556121 ,\n",
              "       805.78879415, 807.34067697, 808.33882789, 809.36960426,\n",
              "       810.59196215, 811.20109467, 812.65251615, 813.16387022])"
            ]
          },
          "metadata": {},
          "execution_count": 282
        }
      ]
    },
    {
      "cell_type": "code",
      "source": [
        "df_array = np.array(airtel_close)\n",
        "df_array"
      ],
      "metadata": {
        "colab": {
          "base_uri": "https://localhost:8080/"
        },
        "id": "_VfvvPpexQsB",
        "outputId": "4969c93b-2717-4315-8b84-99ae23f041c9"
      },
      "execution_count": 283,
      "outputs": [
        {
          "output_type": "execute_result",
          "data": {
            "text/plain": [
              "array([[529.5 ],\n",
              "       [532.05],\n",
              "       [532.7 ],\n",
              "       [536.45],\n",
              "       [546.8 ],\n",
              "       [540.  ],\n",
              "       [545.15],\n",
              "       [540.85],\n",
              "       [539.35],\n",
              "       [542.5 ],\n",
              "       [536.75],\n",
              "       [528.65],\n",
              "       [538.75],\n",
              "       [539.6 ],\n",
              "       [536.4 ],\n",
              "       [534.05],\n",
              "       [528.75],\n",
              "       [535.1 ],\n",
              "       [531.2 ],\n",
              "       [524.95],\n",
              "       [525.65],\n",
              "       [522.65],\n",
              "       [525.  ],\n",
              "       [523.95],\n",
              "       [526.1 ],\n",
              "       [529.6 ],\n",
              "       [525.3 ],\n",
              "       [536.25],\n",
              "       [529.65],\n",
              "       [530.05],\n",
              "       [530.05],\n",
              "       [525.45],\n",
              "       [541.15],\n",
              "       [538.45],\n",
              "       [525.75],\n",
              "       [546.7 ],\n",
              "       [548.3 ],\n",
              "       [544.05],\n",
              "       [540.55],\n",
              "       [567.9 ],\n",
              "       [567.15],\n",
              "       [561.65],\n",
              "       [565.15],\n",
              "       [580.2 ],\n",
              "       [574.4 ],\n",
              "       [598.7 ],\n",
              "       [607.9 ],\n",
              "       [599.25],\n",
              "       [622.2 ],\n",
              "       [620.85],\n",
              "       [623.15],\n",
              "       [637.05],\n",
              "       [634.05],\n",
              "       [626.35],\n",
              "       [622.95],\n",
              "       [613.7 ],\n",
              "       [622.65],\n",
              "       [620.1 ],\n",
              "       [612.45],\n",
              "       [586.9 ],\n",
              "       [595.15],\n",
              "       [620.45],\n",
              "       [664.05],\n",
              "       [666.4 ],\n",
              "       [666.5 ],\n",
              "       [658.45],\n",
              "       [654.6 ],\n",
              "       [670.55],\n",
              "       [667.85],\n",
              "       [686.15],\n",
              "       [693.3 ],\n",
              "       [694.2 ],\n",
              "       [725.5 ],\n",
              "       [718.6 ],\n",
              "       [728.15],\n",
              "       [724.95],\n",
              "       [726.65],\n",
              "       [726.75],\n",
              "       [726.8 ],\n",
              "       [739.4 ],\n",
              "       [722.55],\n",
              "       [696.15],\n",
              "       [694.1 ],\n",
              "       [688.3 ],\n",
              "       [675.9 ],\n",
              "       [681.4 ],\n",
              "       [699.25],\n",
              "       [691.4 ],\n",
              "       [692.5 ],\n",
              "       [695.5 ],\n",
              "       [690.85],\n",
              "       [686.35],\n",
              "       [689.9 ],\n",
              "       [685.8 ],\n",
              "       [680.6 ],\n",
              "       [681.1 ],\n",
              "       [708.45],\n",
              "       [696.05],\n",
              "       [694.5 ],\n",
              "       [691.1 ],\n",
              "       [696.2 ],\n",
              "       [702.35],\n",
              "       [689.75],\n",
              "       [685.35],\n",
              "       [712.5 ],\n",
              "       [713.95],\n",
              "       [699.1 ],\n",
              "       [701.1 ],\n",
              "       [709.  ],\n",
              "       [713.2 ],\n",
              "       [735.45],\n",
              "       [728.6 ],\n",
              "       [743.5 ],\n",
              "       [737.55],\n",
              "       [730.3 ],\n",
              "       [720.05],\n",
              "       [714.35],\n",
              "       [742.1 ],\n",
              "       [758.9 ],\n",
              "       [758.9 ],\n",
              "       [765.15],\n",
              "       [738.75],\n",
              "       [739.35],\n",
              "       [728.25],\n",
              "       [722.25],\n",
              "       [732.55],\n",
              "       [718.35],\n",
              "       [697.6 ],\n",
              "       [698.85],\n",
              "       [715.15],\n",
              "       [713.95],\n",
              "       [710.7 ],\n",
              "       [703.1 ],\n",
              "       [691.6 ],\n",
              "       [685.45],\n",
              "       [681.4 ],\n",
              "       [666.05],\n",
              "       [658.25],\n",
              "       [667.  ],\n",
              "       [684.75],\n",
              "       [678.75],\n",
              "       [677.05],\n",
              "       [675.75],\n",
              "       [680.05],\n",
              "       [676.85],\n",
              "       [679.35],\n",
              "       [683.8 ],\n",
              "       [691.3 ],\n",
              "       [697.45],\n",
              "       [700.  ],\n",
              "       [710.4 ],\n",
              "       [704.7 ],\n",
              "       [704.95],\n",
              "       [703.45],\n",
              "       [730.2 ],\n",
              "       [731.8 ],\n",
              "       [720.6 ],\n",
              "       [728.6 ],\n",
              "       [714.35],\n",
              "       [703.7 ],\n",
              "       [715.4 ],\n",
              "       [695.25],\n",
              "       [689.9 ],\n",
              "       [711.85],\n",
              "       [707.25],\n",
              "       [715.8 ],\n",
              "       [729.3 ],\n",
              "       [723.05],\n",
              "       [725.05],\n",
              "       [721.65],\n",
              "       [720.2 ],\n",
              "       [706.5 ],\n",
              "       [708.9 ],\n",
              "       [719.35],\n",
              "       [724.05],\n",
              "       [715.15],\n",
              "       [689.7 ],\n",
              "       [711.55],\n",
              "       [721.8 ],\n",
              "       [717.  ],\n",
              "       [712.55],\n",
              "       [709.95],\n",
              "       [699.25],\n",
              "       [704.4 ],\n",
              "       [670.9 ],\n",
              "       [688.65],\n",
              "       [686.5 ],\n",
              "       [674.25],\n",
              "       [672.05],\n",
              "       [653.7 ],\n",
              "       [675.4 ],\n",
              "       [683.  ],\n",
              "       [691.5 ],\n",
              "       [697.75],\n",
              "       [694.85],\n",
              "       [700.4 ],\n",
              "       [703.1 ],\n",
              "       [712.  ],\n",
              "       [722.9 ],\n",
              "       [708.2 ],\n",
              "       [719.25],\n",
              "       [704.95],\n",
              "       [706.35],\n",
              "       [709.35],\n",
              "       [733.05],\n",
              "       [754.95],\n",
              "       [749.5 ],\n",
              "       [754.95],\n",
              "       [758.5 ],\n",
              "       [767.8 ],\n",
              "       [766.6 ],\n",
              "       [775.65],\n",
              "       [762.4 ],\n",
              "       [762.1 ],\n",
              "       [758.05],\n",
              "       [741.65],\n",
              "       [740.65],\n",
              "       [729.5 ],\n",
              "       [723.5 ],\n",
              "       [739.35],\n",
              "       [735.75],\n",
              "       [738.75],\n",
              "       [739.35],\n",
              "       [756.3 ],\n",
              "       [752.5 ],\n",
              "       [747.35],\n",
              "       [739.  ],\n",
              "       [741.35],\n",
              "       [722.4 ],\n",
              "       [718.95],\n",
              "       [710.25],\n",
              "       [711.5 ],\n",
              "       [719.65],\n",
              "       [722.85],\n",
              "       [705.4 ],\n",
              "       [689.9 ],\n",
              "       [693.2 ],\n",
              "       [707.05],\n",
              "       [696.15],\n",
              "       [674.25],\n",
              "       [687.9 ],\n",
              "       [685.85],\n",
              "       [678.2 ],\n",
              "       [688.2 ],\n",
              "       [693.65],\n",
              "       [684.4 ],\n",
              "       [699.05],\n",
              "       [700.2 ],\n",
              "       [694.65],\n",
              "       [695.95],\n",
              "       [686.5 ],\n",
              "       [682.95],\n",
              "       [685.3 ],\n",
              "       [663.3 ],\n",
              "       [676.35],\n",
              "       [673.35],\n",
              "       [671.3 ],\n",
              "       [682.05],\n",
              "       [682.1 ],\n",
              "       [654.2 ],\n",
              "       [643.65],\n",
              "       [640.9 ],\n",
              "       [654.3 ],\n",
              "       [642.85],\n",
              "       [660.2 ],\n",
              "       [671.2 ],\n",
              "       [683.95],\n",
              "       [681.15],\n",
              "       [687.8 ],\n",
              "       [684.95],\n",
              "       [673.45],\n",
              "       [681.9 ],\n",
              "       [684.45],\n",
              "       [693.95],\n",
              "       [686.8 ],\n",
              "       [695.15],\n",
              "       [660.55],\n",
              "       [663.  ],\n",
              "       [643.5 ],\n",
              "       [641.65],\n",
              "       [651.8 ],\n",
              "       [663.05],\n",
              "       [672.9 ],\n",
              "       [670.65],\n",
              "       [678.35],\n",
              "       [678.85],\n",
              "       [678.4 ],\n",
              "       [684.1 ],\n",
              "       [674.9 ],\n",
              "       [666.85],\n",
              "       [677.95],\n",
              "       [694.45],\n",
              "       [686.8 ],\n",
              "       [693.15],\n",
              "       [694.3 ],\n",
              "       [703.65],\n",
              "       [704.35],\n",
              "       [715.25],\n",
              "       [709.8 ],\n",
              "       [709.7 ],\n",
              "       [704.1 ],\n",
              "       [722.95],\n",
              "       [733.2 ],\n",
              "       [732.3 ],\n",
              "       [727.6 ],\n",
              "       [737.6 ],\n",
              "       [738.75],\n",
              "       [741.  ],\n",
              "       [730.85],\n",
              "       [720.6 ],\n",
              "       [726.6 ],\n",
              "       [735.05],\n",
              "       [735.  ],\n",
              "       [740.4 ],\n",
              "       [761.25],\n",
              "       [753.1 ],\n",
              "       [769.8 ],\n",
              "       [765.75],\n",
              "       [769.15],\n",
              "       [784.25],\n",
              "       [783.35],\n",
              "       [785.1 ],\n",
              "       [779.65],\n",
              "       [782.75],\n",
              "       [792.15],\n",
              "       [780.2 ],\n",
              "       [784.1 ],\n",
              "       [771.35],\n",
              "       [755.05],\n",
              "       [760.6 ],\n",
              "       [761.45],\n",
              "       [764.65],\n",
              "       [799.9 ],\n",
              "       [803.35],\n",
              "       [808.7 ],\n",
              "       [788.6 ],\n",
              "       [793.1 ],\n",
              "       [792.35],\n",
              "       [780.3 ],\n",
              "       [775.55],\n",
              "       [768.9 ],\n",
              "       [765.95],\n",
              "       [766.  ],\n",
              "       [783.15],\n",
              "       [783.4 ],\n",
              "       [792.9 ],\n",
              "       [797.45],\n",
              "       [802.1 ],\n",
              "       [802.3 ],\n",
              "       [817.1 ],\n",
              "       [816.85],\n",
              "       [832.  ],\n",
              "       [835.55],\n",
              "       [809.85],\n",
              "       [818.65],\n",
              "       [816.4 ],\n",
              "       [822.7 ],\n",
              "       [819.05],\n",
              "       [825.75],\n",
              "       [826.9 ],\n",
              "       [821.9 ],\n",
              "       [835.25],\n",
              "       [841.2 ],\n",
              "       [846.15],\n",
              "       [837.3 ],\n",
              "       [851.2 ],\n",
              "       [847.6 ],\n",
              "       [843.25],\n",
              "       [848.35],\n",
              "       [846.85],\n",
              "       [837.4 ],\n",
              "       [835.85],\n",
              "       [848.75],\n",
              "       [848.6 ],\n",
              "       [848.65],\n",
              "       [844.1 ],\n",
              "       [833.35],\n",
              "       [834.  ],\n",
              "       [832.6 ],\n",
              "       [834.9 ],\n",
              "       [828.4 ],\n",
              "       [838.05],\n",
              "       [829.2 ],\n",
              "       [826.35],\n",
              "       [822.75],\n",
              "       [840.4 ],\n",
              "       [828.95],\n",
              "       [814.  ],\n",
              "       [816.6 ],\n",
              "       [808.65],\n",
              "       [811.  ],\n",
              "       [814.8 ],\n",
              "       [803.8 ],\n",
              "       [820.75],\n",
              "       [806.1 ],\n",
              "       [813.5 ],\n",
              "       [817.6 ],\n",
              "       [811.8 ],\n",
              "       [807.1 ],\n",
              "       [796.  ],\n",
              "       [819.4 ],\n",
              "       [792.85],\n",
              "       [765.55],\n",
              "       [756.9 ],\n",
              "       [764.3 ],\n",
              "       [759.15],\n",
              "       [765.7 ],\n",
              "       [776.55],\n",
              "       [772.  ],\n",
              "       [764.45],\n",
              "       [772.7 ],\n",
              "       [775.65],\n",
              "       [776.5 ],\n",
              "       [774.5 ],\n",
              "       [770.2 ],\n",
              "       [770.3 ],\n",
              "       [769.1 ],\n",
              "       [777.75],\n",
              "       [792.9 ],\n",
              "       [789.25],\n",
              "       [785.9 ],\n",
              "       [775.1 ],\n",
              "       [766.65],\n",
              "       [771.95],\n",
              "       [768.6 ],\n",
              "       [775.2 ],\n",
              "       [785.4 ],\n",
              "       [784.45],\n",
              "       [776.8 ],\n",
              "       [779.15],\n",
              "       [779.05],\n",
              "       [772.15],\n",
              "       [762.95],\n",
              "       [757.1 ],\n",
              "       [752.9 ],\n",
              "       [742.25],\n",
              "       [750.2 ],\n",
              "       [740.1 ],\n",
              "       [764.4 ],\n",
              "       [766.6 ],\n",
              "       [766.55],\n",
              "       [773.4 ],\n",
              "       [773.75],\n",
              "       [765.3 ],\n",
              "       [771.8 ],\n",
              "       [756.65],\n",
              "       [745.95],\n",
              "       [757.25],\n",
              "       [754.8 ],\n",
              "       [756.95],\n",
              "       [756.7 ],\n",
              "       [763.55],\n",
              "       [762.45],\n",
              "       [761.75],\n",
              "       [748.45],\n",
              "       [743.6 ],\n",
              "       [749.  ],\n",
              "       [760.55],\n",
              "       [763.45],\n",
              "       [765.95],\n",
              "       [769.75],\n",
              "       [774.15],\n",
              "       [771.1 ],\n",
              "       [767.05],\n",
              "       [759.65],\n",
              "       [759.75],\n",
              "       [764.65],\n",
              "       [772.3 ],\n",
              "       [765.2 ],\n",
              "       [760.25],\n",
              "       [772.6 ],\n",
              "       [773.45],\n",
              "       [786.5 ],\n",
              "       [799.3 ],\n",
              "       [790.2 ],\n",
              "       [779.3 ],\n",
              "       [789.1 ],\n",
              "       [787.3 ],\n",
              "       [793.75],\n",
              "       [793.6 ],\n",
              "       [796.05],\n",
              "       [788.6 ],\n",
              "       [791.95],\n",
              "       [797.05],\n",
              "       [787.35],\n",
              "       [792.25],\n",
              "       [799.35],\n",
              "       [805.75],\n",
              "       [801.85],\n",
              "       [799.95],\n",
              "       [801.4 ],\n",
              "       [822.7 ],\n",
              "       [817.95],\n",
              "       [821.25],\n",
              "       [818.45],\n",
              "       [849.9 ],\n",
              "       [827.95]])"
            ]
          },
          "metadata": {},
          "execution_count": 283
        }
      ]
    },
    {
      "cell_type": "code",
      "source": [
        "full_data = pd.DataFrame(np.concatenate((df_array.flatten(),forecast.flatten())))"
      ],
      "metadata": {
        "id": "zk-5yCu6xZQd"
      },
      "execution_count": 284,
      "outputs": []
    },
    {
      "cell_type": "code",
      "source": [
        "full_data.plot()"
      ],
      "metadata": {
        "colab": {
          "base_uri": "https://localhost:8080/",
          "height": 448
        },
        "id": "Ilc8Ku0Axr-9",
        "outputId": "4ae98e8b-e9b9-4265-ab68-461ddaeca709"
      },
      "execution_count": 285,
      "outputs": [
        {
          "output_type": "execute_result",
          "data": {
            "text/plain": [
              "<Axes: >"
            ]
          },
          "metadata": {},
          "execution_count": 285
        },
        {
          "output_type": "display_data",
          "data": {
            "text/plain": [
              "<Figure size 640x480 with 1 Axes>"
            ],
            "image/png": "[encoded data removed]"
          },
          "metadata": {}
        }
      ]
    },
    {
      "cell_type": "markdown",
      "source": [
        "#LSTM Model"
      ],
      "metadata": {
        "id": "Y8nSYHbNz70Z"
      }
    },
    {
      "cell_type": "code",
      "source": [
        "from tensorflow.keras.callbacks import EarlyStopping\n",
        "early_stop = EarlyStopping(monitor='val_loss',patience=2)"
      ],
      "metadata": {
        "id": "0WEeDTfCyGcE"
      },
      "execution_count": 303,
      "outputs": []
    },
    {
      "cell_type": "code",
      "source": [
        "length"
      ],
      "metadata": {
        "colab": {
          "base_uri": "https://localhost:8080/"
        },
        "id": "1XLuzB5f0hfM",
        "outputId": "0ee61955-e087-4643-f051-e930ccb8bec5"
      },
      "execution_count": 304,
      "outputs": [
        {
          "output_type": "execute_result",
          "data": {
            "text/plain": [
              "16"
            ]
          },
          "metadata": {},
          "execution_count": 304
        }
      ]
    },
    {
      "cell_type": "code",
      "source": [
        "scaled_test.shape"
      ],
      "metadata": {
        "colab": {
          "base_uri": "https://localhost:8080/"
        },
        "id": "Pz2yRk9-0rbP",
        "outputId": "dff38f47-f69c-4354-8233-19acdf8adef6"
      },
      "execution_count": 305,
      "outputs": [
        {
          "output_type": "execute_result",
          "data": {
            "text/plain": [
              "(17, 1)"
            ]
          },
          "metadata": {},
          "execution_count": 305
        }
      ]
    },
    {
      "cell_type": "code",
      "source": [
        "length = 16\n",
        "generator = TimeseriesGenerator(scaled_train,scaled_train,length = length,batch_size = 32)\n",
        "validation_generator = TimeseriesGenerator(scaled_test,scaled_test,length = length,batch_size = 32)"
      ],
      "metadata": {
        "id": "NnE6z0tU0vCg"
      },
      "execution_count": 336,
      "outputs": []
    },
    {
      "cell_type": "code",
      "source": [
        "lstm_model = Sequential()\n",
        "lstm_model.add(LSTM(30,input_shape=(length,n_features)))\n",
        "lstm_model.add(Dropout(rate = 0.2))\n",
        "lstm_model.add(Dense(170))\n",
        "lstm_model.add(Dropout(rate = 0.6))\n",
        "lstm_model.add(Dense(500))\n",
        "lstm_model.add(Dropout(rate = 0.6))\n",
        "lstm_model.add(Dense(500))\n",
        "lstm_model.add(Dropout(rate = 0.398))\n",
        "lstm_model.add(Dense(500))\n",
        "lstm_model.add(Dropout(rate = 0.3))\n",
        "lstm_model.add(Dense(500))\n",
        "lstm_model.add(Dropout(rate = 0.4))\n",
        "lstm_model.add(Dense(290))\n",
        "lstm_model.add(Dropout(rate = 0.29))\n",
        "lstm_model.add(Dense(229))\n",
        "lstm_model.add(Dense(1))\n",
        "lstm_model.compile(optimizer='adam', loss='mse')"
      ],
      "metadata": {
        "id": "pBfajsIy1Szb"
      },
      "execution_count": 337,
      "outputs": []
    },
    {
      "cell_type": "code",
      "source": [
        "lstm_model.fit_generator(generator,epochs=20,validation_data=validation_generator,shuffle=False)"
      ],
      "metadata": {
        "colab": {
          "base_uri": "https://localhost:8080/"
        },
        "id": "bGPcTtSR1xil",
        "outputId": "12511b45-6c4f-4ed8-ec19-559ec2ee4e38"
      },
      "execution_count": 338,
      "outputs": [
        {
          "output_type": "stream",
          "name": "stdout",
          "text": [
            "Epoch 1/20\n"
          ]
        },
        {
          "output_type": "stream",
          "name": "stderr",
          "text": [
            "<ipython-input-338-16f5b246bf59>:1: UserWarning: `Model.fit_generator` is deprecated and will be removed in a future version. Please use `Model.fit`, which supports generators.\n",
            "  lstm_model.fit_generator(generator,epochs=20,validation_data=validation_generator,shuffle=False)\n"
          ]
        },
        {
          "output_type": "stream",
          "name": "stdout",
          "text": [
            "15/15 [==============================] - 5s 41ms/step - loss: 0.1456 - val_loss: 0.0159\n",
            "Epoch 2/20\n",
            "15/15 [==============================] - 0s 11ms/step - loss: 0.0606 - val_loss: 0.0887\n",
            "Epoch 3/20\n",
            "15/15 [==============================] - 0s 11ms/step - loss: 0.0371 - val_loss: 0.0288\n",
            "Epoch 4/20\n",
            "15/15 [==============================] - 0s 10ms/step - loss: 0.0305 - val_loss: 0.0328\n",
            "Epoch 5/20\n",
            "15/15 [==============================] - 0s 11ms/step - loss: 0.0220 - val_loss: 0.0107\n",
            "Epoch 6/20\n",
            "15/15 [==============================] - 0s 10ms/step - loss: 0.0225 - val_loss: 0.0260\n",
            "Epoch 7/20\n",
            "15/15 [==============================] - 0s 11ms/step - loss: 0.0230 - val_loss: 0.0227\n",
            "Epoch 8/20\n",
            "15/15 [==============================] - 0s 11ms/step - loss: 0.0260 - val_loss: 0.0034\n",
            "Epoch 9/20\n",
            "15/15 [==============================] - 0s 10ms/step - loss: 0.0245 - val_loss: 8.2162e-05\n",
            "Epoch 10/20\n",
            "15/15 [==============================] - 0s 10ms/step - loss: 0.0264 - val_loss: 0.0031\n",
            "Epoch 11/20\n",
            "15/15 [==============================] - 0s 10ms/step - loss: 0.0159 - val_loss: 6.0422e-04\n",
            "Epoch 12/20\n",
            "15/15 [==============================] - 0s 10ms/step - loss: 0.0168 - val_loss: 8.2339e-04\n",
            "Epoch 13/20\n",
            "15/15 [==============================] - 0s 11ms/step - loss: 0.0129 - val_loss: 0.0013\n",
            "Epoch 14/20\n",
            "15/15 [==============================] - 0s 13ms/step - loss: 0.0178 - val_loss: 5.7298e-04\n",
            "Epoch 15/20\n",
            "15/15 [==============================] - 0s 11ms/step - loss: 0.0178 - val_loss: 4.6903e-04\n",
            "Epoch 16/20\n",
            "15/15 [==============================] - 0s 11ms/step - loss: 0.0190 - val_loss: 0.0287\n",
            "Epoch 17/20\n",
            "15/15 [==============================] - 0s 11ms/step - loss: 0.0338 - val_loss: 0.0429\n",
            "Epoch 18/20\n",
            "15/15 [==============================] - 0s 10ms/step - loss: 0.0674 - val_loss: 0.0133\n",
            "Epoch 19/20\n",
            "15/15 [==============================] - 0s 11ms/step - loss: 0.0499 - val_loss: 0.0020\n",
            "Epoch 20/20\n",
            "15/15 [==============================] - 0s 10ms/step - loss: 0.0571 - val_loss: 0.0015\n"
          ]
        },
        {
          "output_type": "execute_result",
          "data": {
            "text/plain": [
              "<keras.callbacks.History at 0x7fb9ac39ef50>"
            ]
          },
          "metadata": {},
          "execution_count": 338
        }
      ]
    },
    {
      "cell_type": "code",
      "source": [
        "losses = pd.DataFrame(lstm_model.history.history)\n",
        "losses.plot()"
      ],
      "metadata": {
        "colab": {
          "base_uri": "https://localhost:8080/",
          "height": 448
        },
        "id": "QOrHuXYn2G4J",
        "outputId": "8398a929-76e6-4e9d-8dde-d61d5fe96c4b"
      },
      "execution_count": 339,
      "outputs": [
        {
          "output_type": "execute_result",
          "data": {
            "text/plain": [
              "<Axes: >"
            ]
          },
          "metadata": {},
          "execution_count": 339
        },
        {
          "output_type": "display_data",
          "data": {
            "text/plain": [
              "<Figure size 640x480 with 1 Axes>"
            ],
            "image/png": "[encoded data removed]"
          },
          "metadata": {}
        }
      ]
    },
    {
      "cell_type": "code",
      "source": [
        "test_predictions = []\n",
        "first_eval_batch = scaled_train[-length:]\n",
        "current_batch = first_eval_batch.reshape((1,length,n_features))\n",
        "\n",
        "for i in range(len(test)):\n",
        "  current_pred = lstm_model.predict(current_batch)[0]\n",
        "\n",
        "  test_predictions.append(current_pred)\n",
        "\n",
        "  current_batch = np.append(current_batch[:,1:,:],[[current_pred]],axis=1)"
      ],
      "metadata": {
        "colab": {
          "base_uri": "https://localhost:8080/"
        },
        "id": "LbiAgOU73ChL",
        "outputId": "0a1fc011-fb21-43a5-ac3f-24fc711a9ff8"
      },
      "execution_count": 340,
      "outputs": [
        {
          "output_type": "stream",
          "name": "stdout",
          "text": [
            "1/1 [==============================] - 1s 1s/step\n",
            "1/1 [==============================] - 0s 32ms/step\n",
            "1/1 [==============================] - 0s 31ms/step\n",
            "1/1 [==============================] - 0s 32ms/step\n",
            "1/1 [==============================] - 0s 34ms/step\n",
            "1/1 [==============================] - 0s 34ms/step\n",
            "1/1 [==============================] - 0s 30ms/step\n",
            "1/1 [==============================] - 0s 53ms/step\n",
            "1/1 [==============================] - 0s 31ms/step\n",
            "1/1 [==============================] - 0s 32ms/step\n",
            "1/1 [==============================] - 0s 33ms/step\n",
            "1/1 [==============================] - 0s 32ms/step\n",
            "1/1 [==============================] - 0s 33ms/step\n",
            "1/1 [==============================] - 0s 45ms/step\n",
            "1/1 [==============================] - 0s 36ms/step\n",
            "1/1 [==============================] - 0s 41ms/step\n",
            "1/1 [==============================] - 0s 35ms/step\n"
          ]
        }
      ]
    },
    {
      "cell_type": "code",
      "source": [
        "true_predictions = scaler.inverse_transform(test_predictions)\n",
        "test['LSTM_predictions'] = true_predictions\n",
        "test.plot(figsize=(12,8))"
      ],
      "metadata": {
        "colab": {
          "base_uri": "https://localhost:8080/",
          "height": 821
        },
        "id": "wO1IPAi638GY",
        "outputId": "058efcc6-c499-468f-d49d-5edc33f7bae2"
      },
      "execution_count": 341,
      "outputs": [
        {
          "output_type": "stream",
          "name": "stderr",
          "text": [
            "<ipython-input-341-5512f3d84678>:2: SettingWithCopyWarning: \n",
            "A value is trying to be set on a copy of a slice from a DataFrame.\n",
            "Try using .loc[row_indexer,col_indexer] = value instead\n",
            "\n",
            "See the caveats in the documentation: https://pandas.pydata.org/pandas-docs/stable/user_guide/indexing.html#returning-a-view-versus-a-copy\n",
            "  test['LSTM_predictions'] = true_predictions\n"
          ]
        },
        {
          "output_type": "execute_result",
          "data": {
            "text/plain": [
              "<Axes: >"
            ]
          },
          "metadata": {},
          "execution_count": 341
        },
        {
          "output_type": "display_data",
          "data": {
            "text/plain": [
              "<Figure size 1200x800 with 1 Axes>"
            ],
            "image/png": "[encoded data removed]"
          },
          "metadata": {}
        }
      ]
    },
    {
      "cell_type": "code",
      "source": [
        "forecast = []\n",
        "first_eval_batch = scaled_train[-length:]\n",
        "current_batch = first_eval_batch.reshape((1,length,n_features))\n",
        "\n",
        "for i in range(20):\n",
        "  current_pred = lstm_model.predict(current_batch)[0]\n",
        "\n",
        "  forecast.append(current_pred)\n",
        "\n",
        "  current_batch = np.append(current_batch[:,1:,:],[[current_pred]],axis=1)"
      ],
      "metadata": {
        "colab": {
          "base_uri": "https://localhost:8080/"
        },
        "id": "pOm8qrrI4Vaq",
        "outputId": "f28d70d5-d000-4e15-fede-10651ac8023d"
      },
      "execution_count": 342,
      "outputs": [
        {
          "output_type": "stream",
          "name": "stdout",
          "text": [
            "1/1 [==============================] - 0s 21ms/step\n",
            "1/1 [==============================] - 0s 23ms/step\n",
            "1/1 [==============================] - 0s 22ms/step\n",
            "1/1 [==============================] - 0s 23ms/step\n",
            "1/1 [==============================] - 0s 25ms/step\n",
            "1/1 [==============================] - 0s 25ms/step\n",
            "1/1 [==============================] - 0s 23ms/step\n",
            "1/1 [==============================] - 0s 28ms/step\n",
            "1/1 [==============================] - 0s 25ms/step\n",
            "1/1 [==============================] - 0s 23ms/step\n",
            "1/1 [==============================] - 0s 21ms/step\n",
            "1/1 [==============================] - 0s 25ms/step\n",
            "1/1 [==============================] - 0s 23ms/step\n",
            "1/1 [==============================] - 0s 24ms/step\n",
            "1/1 [==============================] - 0s 23ms/step\n",
            "1/1 [==============================] - 0s 23ms/step\n",
            "1/1 [==============================] - 0s 23ms/step\n",
            "1/1 [==============================] - 0s 25ms/step\n",
            "1/1 [==============================] - 0s 21ms/step\n",
            "1/1 [==============================] - 0s 20ms/step\n"
          ]
        }
      ]
    },
    {
      "cell_type": "code",
      "source": [
        "forecast = scaler.inverse_transform(forecast)\n",
        "full_data = pd.DataFrame(np.concatenate((df_array.flatten(),forecast.flatten())))\n",
        "full_data.plot()"
      ],
      "metadata": {
        "colab": {
          "base_uri": "https://localhost:8080/",
          "height": 448
        },
        "id": "BnL6Zs936yyL",
        "outputId": "1118660d-fb46-4598-e0f1-899bb865a0ee"
      },
      "execution_count": 343,
      "outputs": [
        {
          "output_type": "execute_result",
          "data": {
            "text/plain": [
              "<Axes: >"
            ]
          },
          "metadata": {},
          "execution_count": 343
        },
        {
          "output_type": "display_data",
          "data": {
            "text/plain": [
              "<Figure size 640x480 with 1 Axes>"
            ],
            "image/png": "[encoded data removed]"
          },
          "metadata": {}
        }
      ]
    },
    {
      "cell_type": "code",
      "source": [
        "forecast"
      ],
      "metadata": {
        "colab": {
          "base_uri": "https://localhost:8080/"
        },
        "id": "ZyqW8Mgf6_8C",
        "outputId": "c52acf46-84d8-4790-911a-8b5bca23f9f5"
      },
      "execution_count": 344,
      "outputs": [
        {
          "output_type": "execute_result",
          "data": {
            "text/plain": [
              "array([[806.48305443],\n",
              "       [811.91531013],\n",
              "       [817.04688682],\n",
              "       [821.87794116],\n",
              "       [826.4254713 ],\n",
              "       [830.72688096],\n",
              "       [834.79924661],\n",
              "       [838.63675207],\n",
              "       [842.2654037 ],\n",
              "       [845.68232279],\n",
              "       [848.89634132],\n",
              "       [851.94482386],\n",
              "       [854.84371104],\n",
              "       [857.57868763],\n",
              "       [860.17043338],\n",
              "       [862.61702915],\n",
              "       [864.93288811],\n",
              "       [867.10904118],\n",
              "       [869.15872656],\n",
              "       [871.08821083]])"
            ]
          },
          "metadata": {},
          "execution_count": 344
        }
      ]
    }
  ]
}